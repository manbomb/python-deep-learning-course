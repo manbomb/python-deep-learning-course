{
  "nbformat": 4,
  "nbformat_minor": 0,
  "metadata": {
    "colab": {
      "name": "breast_cancer_input_one_reg.ipynb",
      "provenance": []
    },
    "kernelspec": {
      "name": "python3",
      "display_name": "Python 3"
    }
  },
  "cells": [
    {
      "cell_type": "code",
      "metadata": {
        "id": "a3GKNIHekZUl",
        "colab_type": "code",
        "colab": {}
      },
      "source": [
        "from google.colab import files\n",
        "import io\n",
        "import  numpy as np\n",
        "import pandas as pd\n",
        "import keras\n",
        "from keras.models import Sequential\n",
        "from keras.layers import Dense, Dropout\n"
      ],
      "execution_count": 0,
      "outputs": []
    },
    {
      "cell_type": "code",
      "metadata": {
        "id": "llMxfCY1k6QT",
        "colab_type": "code",
        "colab": {
          "resources": {
            "http://localhost:8080/nbextensions/google.colab/files.js": {
              "data": "Ly8gQ29weXJpZ2h0IDIwMTcgR29vZ2xlIExMQwovLwovLyBMaWNlbnNlZCB1bmRlciB0aGUgQXBhY2hlIExpY2Vuc2UsIFZlcnNpb24gMi4wICh0aGUgIkxpY2Vuc2UiKTsKLy8geW91IG1heSBub3QgdXNlIHRoaXMgZmlsZSBleGNlcHQgaW4gY29tcGxpYW5jZSB3aXRoIHRoZSBMaWNlbnNlLgovLyBZb3UgbWF5IG9idGFpbiBhIGNvcHkgb2YgdGhlIExpY2Vuc2UgYXQKLy8KLy8gICAgICBodHRwOi8vd3d3LmFwYWNoZS5vcmcvbGljZW5zZXMvTElDRU5TRS0yLjAKLy8KLy8gVW5sZXNzIHJlcXVpcmVkIGJ5IGFwcGxpY2FibGUgbGF3IG9yIGFncmVlZCB0byBpbiB3cml0aW5nLCBzb2Z0d2FyZQovLyBkaXN0cmlidXRlZCB1bmRlciB0aGUgTGljZW5zZSBpcyBkaXN0cmlidXRlZCBvbiBhbiAiQVMgSVMiIEJBU0lTLAovLyBXSVRIT1VUIFdBUlJBTlRJRVMgT1IgQ09ORElUSU9OUyBPRiBBTlkgS0lORCwgZWl0aGVyIGV4cHJlc3Mgb3IgaW1wbGllZC4KLy8gU2VlIHRoZSBMaWNlbnNlIGZvciB0aGUgc3BlY2lmaWMgbGFuZ3VhZ2UgZ292ZXJuaW5nIHBlcm1pc3Npb25zIGFuZAovLyBsaW1pdGF0aW9ucyB1bmRlciB0aGUgTGljZW5zZS4KCi8qKgogKiBAZmlsZW92ZXJ2aWV3IEhlbHBlcnMgZm9yIGdvb2dsZS5jb2xhYiBQeXRob24gbW9kdWxlLgogKi8KKGZ1bmN0aW9uKHNjb3BlKSB7CmZ1bmN0aW9uIHNwYW4odGV4dCwgc3R5bGVBdHRyaWJ1dGVzID0ge30pIHsKICBjb25zdCBlbGVtZW50ID0gZG9jdW1lbnQuY3JlYXRlRWxlbWVudCgnc3BhbicpOwogIGVsZW1lbnQudGV4dENvbnRlbnQgPSB0ZXh0OwogIGZvciAoY29uc3Qga2V5IG9mIE9iamVjdC5rZXlzKHN0eWxlQXR0cmlidXRlcykpIHsKICAgIGVsZW1lbnQuc3R5bGVba2V5XSA9IHN0eWxlQXR0cmlidXRlc1trZXldOwogIH0KICByZXR1cm4gZWxlbWVudDsKfQoKLy8gTWF4IG51bWJlciBvZiBieXRlcyB3aGljaCB3aWxsIGJlIHVwbG9hZGVkIGF0IGEgdGltZS4KY29uc3QgTUFYX1BBWUxPQURfU0laRSA9IDEwMCAqIDEwMjQ7Ci8vIE1heCBhbW91bnQgb2YgdGltZSB0byBibG9jayB3YWl0aW5nIGZvciB0aGUgdXNlci4KY29uc3QgRklMRV9DSEFOR0VfVElNRU9VVF9NUyA9IDMwICogMTAwMDsKCmZ1bmN0aW9uIF91cGxvYWRGaWxlcyhpbnB1dElkLCBvdXRwdXRJZCkgewogIGNvbnN0IHN0ZXBzID0gdXBsb2FkRmlsZXNTdGVwKGlucHV0SWQsIG91dHB1dElkKTsKICBjb25zdCBvdXRwdXRFbGVtZW50ID0gZG9jdW1lbnQuZ2V0RWxlbWVudEJ5SWQob3V0cHV0SWQpOwogIC8vIENhY2hlIHN0ZXBzIG9uIHRoZSBvdXRwdXRFbGVtZW50IHRvIG1ha2UgaXQgYXZhaWxhYmxlIGZvciB0aGUgbmV4dCBjYWxsCiAgLy8gdG8gdXBsb2FkRmlsZXNDb250aW51ZSBmcm9tIFB5dGhvbi4KICBvdXRwdXRFbGVtZW50LnN0ZXBzID0gc3RlcHM7CgogIHJldHVybiBfdXBsb2FkRmlsZXNDb250aW51ZShvdXRwdXRJZCk7Cn0KCi8vIFRoaXMgaXMgcm91Z2hseSBhbiBhc3luYyBnZW5lcmF0b3IgKG5vdCBzdXBwb3J0ZWQgaW4gdGhlIGJyb3dzZXIgeWV0KSwKLy8gd2hlcmUgdGhlcmUgYXJlIG11bHRpcGxlIGFzeW5jaHJvbm91cyBzdGVwcyBhbmQgdGhlIFB5dGhvbiBzaWRlIGlzIGdvaW5nCi8vIHRvIHBvbGwgZm9yIGNvbXBsZXRpb24gb2YgZWFjaCBzdGVwLgovLyBUaGlzIHVzZXMgYSBQcm9taXNlIHRvIGJsb2NrIHRoZSBweXRob24gc2lkZSBvbiBjb21wbGV0aW9uIG9mIGVhY2ggc3RlcCwKLy8gdGhlbiBwYXNzZXMgdGhlIHJlc3VsdCBvZiB0aGUgcHJldmlvdXMgc3RlcCBhcyB0aGUgaW5wdXQgdG8gdGhlIG5leHQgc3RlcC4KZnVuY3Rpb24gX3VwbG9hZEZpbGVzQ29udGludWUob3V0cHV0SWQpIHsKICBjb25zdCBvdXRwdXRFbGVtZW50ID0gZG9jdW1lbnQuZ2V0RWxlbWVudEJ5SWQob3V0cHV0SWQpOwogIGNvbnN0IHN0ZXBzID0gb3V0cHV0RWxlbWVudC5zdGVwczsKCiAgY29uc3QgbmV4dCA9IHN0ZXBzLm5leHQob3V0cHV0RWxlbWVudC5sYXN0UHJvbWlzZVZhbHVlKTsKICByZXR1cm4gUHJvbWlzZS5yZXNvbHZlKG5leHQudmFsdWUucHJvbWlzZSkudGhlbigodmFsdWUpID0+IHsKICAgIC8vIENhY2hlIHRoZSBsYXN0IHByb21pc2UgdmFsdWUgdG8gbWFrZSBpdCBhdmFpbGFibGUgdG8gdGhlIG5leHQKICAgIC8vIHN0ZXAgb2YgdGhlIGdlbmVyYXRvci4KICAgIG91dHB1dEVsZW1lbnQubGFzdFByb21pc2VWYWx1ZSA9IHZhbHVlOwogICAgcmV0dXJuIG5leHQudmFsdWUucmVzcG9uc2U7CiAgfSk7Cn0KCi8qKgogKiBHZW5lcmF0b3IgZnVuY3Rpb24gd2hpY2ggaXMgY2FsbGVkIGJldHdlZW4gZWFjaCBhc3luYyBzdGVwIG9mIHRoZSB1cGxvYWQKICogcHJvY2Vzcy4KICogQHBhcmFtIHtzdHJpbmd9IGlucHV0SWQgRWxlbWVudCBJRCBvZiB0aGUgaW5wdXQgZmlsZSBwaWNrZXIgZWxlbWVudC4KICogQHBhcmFtIHtzdHJpbmd9IG91dHB1dElkIEVsZW1lbnQgSUQgb2YgdGhlIG91dHB1dCBkaXNwbGF5LgogKiBAcmV0dXJuIHshSXRlcmFibGU8IU9iamVjdD59IEl0ZXJhYmxlIG9mIG5leHQgc3RlcHMuCiAqLwpmdW5jdGlvbiogdXBsb2FkRmlsZXNTdGVwKGlucHV0SWQsIG91dHB1dElkKSB7CiAgY29uc3QgaW5wdXRFbGVtZW50ID0gZG9jdW1lbnQuZ2V0RWxlbWVudEJ5SWQoaW5wdXRJZCk7CiAgaW5wdXRFbGVtZW50LmRpc2FibGVkID0gZmFsc2U7CgogIGNvbnN0IG91dHB1dEVsZW1lbnQgPSBkb2N1bWVudC5nZXRFbGVtZW50QnlJZChvdXRwdXRJZCk7CiAgb3V0cHV0RWxlbWVudC5pbm5lckhUTUwgPSAnJzsKCiAgY29uc3QgcGlja2VkUHJvbWlzZSA9IG5ldyBQcm9taXNlKChyZXNvbHZlKSA9PiB7CiAgICBpbnB1dEVsZW1lbnQuYWRkRXZlbnRMaXN0ZW5lcignY2hhbmdlJywgKGUpID0+IHsKICAgICAgcmVzb2x2ZShlLnRhcmdldC5maWxlcyk7CiAgICB9KTsKICB9KTsKCiAgY29uc3QgY2FuY2VsID0gZG9jdW1lbnQuY3JlYXRlRWxlbWVudCgnYnV0dG9uJyk7CiAgaW5wdXRFbGVtZW50LnBhcmVudEVsZW1lbnQuYXBwZW5kQ2hpbGQoY2FuY2VsKTsKICBjYW5jZWwudGV4dENvbnRlbnQgPSAnQ2FuY2VsIHVwbG9hZCc7CiAgY29uc3QgY2FuY2VsUHJvbWlzZSA9IG5ldyBQcm9taXNlKChyZXNvbHZlKSA9PiB7CiAgICBjYW5jZWwub25jbGljayA9ICgpID0+IHsKICAgICAgcmVzb2x2ZShudWxsKTsKICAgIH07CiAgfSk7CgogIC8vIENhbmNlbCB1cGxvYWQgaWYgdXNlciBoYXNuJ3QgcGlja2VkIGFueXRoaW5nIGluIHRpbWVvdXQuCiAgY29uc3QgdGltZW91dFByb21pc2UgPSBuZXcgUHJvbWlzZSgocmVzb2x2ZSkgPT4gewogICAgc2V0VGltZW91dCgoKSA9PiB7CiAgICAgIHJlc29sdmUobnVsbCk7CiAgICB9LCBGSUxFX0NIQU5HRV9USU1FT1VUX01TKTsKICB9KTsKCiAgLy8gV2FpdCBmb3IgdGhlIHVzZXIgdG8gcGljayB0aGUgZmlsZXMuCiAgY29uc3QgZmlsZXMgPSB5aWVsZCB7CiAgICBwcm9taXNlOiBQcm9taXNlLnJhY2UoW3BpY2tlZFByb21pc2UsIHRpbWVvdXRQcm9taXNlLCBjYW5jZWxQcm9taXNlXSksCiAgICByZXNwb25zZTogewogICAgICBhY3Rpb246ICdzdGFydGluZycsCiAgICB9CiAgfTsKCiAgaWYgKCFmaWxlcykgewogICAgcmV0dXJuIHsKICAgICAgcmVzcG9uc2U6IHsKICAgICAgICBhY3Rpb246ICdjb21wbGV0ZScsCiAgICAgIH0KICAgIH07CiAgfQoKICBjYW5jZWwucmVtb3ZlKCk7CgogIC8vIERpc2FibGUgdGhlIGlucHV0IGVsZW1lbnQgc2luY2UgZnVydGhlciBwaWNrcyBhcmUgbm90IGFsbG93ZWQuCiAgaW5wdXRFbGVtZW50LmRpc2FibGVkID0gdHJ1ZTsKCiAgZm9yIChjb25zdCBmaWxlIG9mIGZpbGVzKSB7CiAgICBjb25zdCBsaSA9IGRvY3VtZW50LmNyZWF0ZUVsZW1lbnQoJ2xpJyk7CiAgICBsaS5hcHBlbmQoc3BhbihmaWxlLm5hbWUsIHtmb250V2VpZ2h0OiAnYm9sZCd9KSk7CiAgICBsaS5hcHBlbmQoc3BhbigKICAgICAgICBgKCR7ZmlsZS50eXBlIHx8ICduL2EnfSkgLSAke2ZpbGUuc2l6ZX0gYnl0ZXMsIGAgKwogICAgICAgIGBsYXN0IG1vZGlmaWVkOiAkewogICAgICAgICAgICBmaWxlLmxhc3RNb2RpZmllZERhdGUgPyBmaWxlLmxhc3RNb2RpZmllZERhdGUudG9Mb2NhbGVEYXRlU3RyaW5nKCkgOgogICAgICAgICAgICAgICAgICAgICAgICAgICAgICAgICAgICAnbi9hJ30gLSBgKSk7CiAgICBjb25zdCBwZXJjZW50ID0gc3BhbignMCUgZG9uZScpOwogICAgbGkuYXBwZW5kQ2hpbGQocGVyY2VudCk7CgogICAgb3V0cHV0RWxlbWVudC5hcHBlbmRDaGlsZChsaSk7CgogICAgY29uc3QgZmlsZURhdGFQcm9taXNlID0gbmV3IFByb21pc2UoKHJlc29sdmUpID0+IHsKICAgICAgY29uc3QgcmVhZGVyID0gbmV3IEZpbGVSZWFkZXIoKTsKICAgICAgcmVhZGVyLm9ubG9hZCA9IChlKSA9PiB7CiAgICAgICAgcmVzb2x2ZShlLnRhcmdldC5yZXN1bHQpOwogICAgICB9OwogICAgICByZWFkZXIucmVhZEFzQXJyYXlCdWZmZXIoZmlsZSk7CiAgICB9KTsKICAgIC8vIFdhaXQgZm9yIHRoZSBkYXRhIHRvIGJlIHJlYWR5LgogICAgbGV0IGZpbGVEYXRhID0geWllbGQgewogICAgICBwcm9taXNlOiBmaWxlRGF0YVByb21pc2UsCiAgICAgIHJlc3BvbnNlOiB7CiAgICAgICAgYWN0aW9uOiAnY29udGludWUnLAogICAgICB9CiAgICB9OwoKICAgIC8vIFVzZSBhIGNodW5rZWQgc2VuZGluZyB0byBhdm9pZCBtZXNzYWdlIHNpemUgbGltaXRzLiBTZWUgYi82MjExNTY2MC4KICAgIGxldCBwb3NpdGlvbiA9IDA7CiAgICB3aGlsZSAocG9zaXRpb24gPCBmaWxlRGF0YS5ieXRlTGVuZ3RoKSB7CiAgICAgIGNvbnN0IGxlbmd0aCA9IE1hdGgubWluKGZpbGVEYXRhLmJ5dGVMZW5ndGggLSBwb3NpdGlvbiwgTUFYX1BBWUxPQURfU0laRSk7CiAgICAgIGNvbnN0IGNodW5rID0gbmV3IFVpbnQ4QXJyYXkoZmlsZURhdGEsIHBvc2l0aW9uLCBsZW5ndGgpOwogICAgICBwb3NpdGlvbiArPSBsZW5ndGg7CgogICAgICBjb25zdCBiYXNlNjQgPSBidG9hKFN0cmluZy5mcm9tQ2hhckNvZGUuYXBwbHkobnVsbCwgY2h1bmspKTsKICAgICAgeWllbGQgewogICAgICAgIHJlc3BvbnNlOiB7CiAgICAgICAgICBhY3Rpb246ICdhcHBlbmQnLAogICAgICAgICAgZmlsZTogZmlsZS5uYW1lLAogICAgICAgICAgZGF0YTogYmFzZTY0LAogICAgICAgIH0sCiAgICAgIH07CiAgICAgIHBlcmNlbnQudGV4dENvbnRlbnQgPQogICAgICAgICAgYCR7TWF0aC5yb3VuZCgocG9zaXRpb24gLyBmaWxlRGF0YS5ieXRlTGVuZ3RoKSAqIDEwMCl9JSBkb25lYDsKICAgIH0KICB9CgogIC8vIEFsbCBkb25lLgogIHlpZWxkIHsKICAgIHJlc3BvbnNlOiB7CiAgICAgIGFjdGlvbjogJ2NvbXBsZXRlJywKICAgIH0KICB9Owp9CgpzY29wZS5nb29nbGUgPSBzY29wZS5nb29nbGUgfHwge307CnNjb3BlLmdvb2dsZS5jb2xhYiA9IHNjb3BlLmdvb2dsZS5jb2xhYiB8fCB7fTsKc2NvcGUuZ29vZ2xlLmNvbGFiLl9maWxlcyA9IHsKICBfdXBsb2FkRmlsZXMsCiAgX3VwbG9hZEZpbGVzQ29udGludWUsCn07Cn0pKHNlbGYpOwo=",
              "ok": true,
              "headers": [
                [
                  "content-type",
                  "application/javascript"
                ]
              ],
              "status": 200,
              "status_text": ""
            }
          },
          "base_uri": "https://localhost:8080/",
          "height": 109
        },
        "outputId": "93c23ee9-fc5b-42e6-ecc8-25ede7e623d3"
      },
      "source": [
        "uploaded = files.upload()"
      ],
      "execution_count": 4,
      "outputs": [
        {
          "output_type": "display_data",
          "data": {
            "text/html": [
              "\n",
              "     <input type=\"file\" id=\"files-a4d1bb65-f29f-4f2e-9946-18295bcc6faf\" name=\"files[]\" multiple disabled />\n",
              "     <output id=\"result-a4d1bb65-f29f-4f2e-9946-18295bcc6faf\">\n",
              "      Upload widget is only available when the cell has been executed in the\n",
              "      current browser session. Please rerun this cell to enable.\n",
              "      </output>\n",
              "      <script src=\"/nbextensions/google.colab/files.js\"></script> "
            ],
            "text/plain": [
              "<IPython.core.display.HTML object>"
            ]
          },
          "metadata": {
            "tags": []
          }
        },
        {
          "output_type": "stream",
          "text": [
            "Saving entradas-breast.csv to entradas-breast.csv\n",
            "Saving saidas-breast.csv to saidas-breast.csv\n"
          ],
          "name": "stdout"
        }
      ]
    },
    {
      "cell_type": "code",
      "metadata": {
        "id": "Ex-53JNilaf2",
        "colab_type": "code",
        "colab": {}
      },
      "source": [
        "previsores = pd.read_csv(io.BytesIO(uploaded['entradas-breast.csv']))\n",
        "classe = pd.read_csv(io.BytesIO(uploaded['saidas-breast.csv']))"
      ],
      "execution_count": 0,
      "outputs": []
    },
    {
      "cell_type": "code",
      "metadata": {
        "id": "vXClGfFOlpcV",
        "colab_type": "code",
        "colab": {
          "base_uri": "https://localhost:8080/",
          "height": 1000
        },
        "outputId": "7df82198-3298-4e75-e7a9-0c64decaab12"
      },
      "source": [
        "rede = Sequential()\n",
        "rede.add(Dense(units  = 8, activation = 'relu', kernel_initializer = 'normal', input_dim = 30))\n",
        "rede.add(Dropout(0.2))\n",
        "rede.add(Dense(units = 8, activation='relu',kernel_initializer='normal'))\n",
        "rede.add(Dropout(0.2))\n",
        "rede.add(Dense(units=1, activation='sigmoid',))\n",
        "rede.compile(optimizer='adam', loss = 'binary_crossentropy', metrics = ['binary_accuracy'])\n",
        "rede.fit(previsores, classe, batch_size = 10, epochs = 100)"
      ],
      "execution_count": 7,
      "outputs": [
        {
          "output_type": "stream",
          "text": [
            "WARNING:tensorflow:From /usr/local/lib/python3.6/dist-packages/keras/backend/tensorflow_backend.py:66: The name tf.get_default_graph is deprecated. Please use tf.compat.v1.get_default_graph instead.\n",
            "\n",
            "WARNING:tensorflow:From /usr/local/lib/python3.6/dist-packages/keras/backend/tensorflow_backend.py:541: The name tf.placeholder is deprecated. Please use tf.compat.v1.placeholder instead.\n",
            "\n",
            "WARNING:tensorflow:From /usr/local/lib/python3.6/dist-packages/keras/backend/tensorflow_backend.py:4409: The name tf.random_normal is deprecated. Please use tf.random.normal instead.\n",
            "\n",
            "WARNING:tensorflow:From /usr/local/lib/python3.6/dist-packages/keras/backend/tensorflow_backend.py:148: The name tf.placeholder_with_default is deprecated. Please use tf.compat.v1.placeholder_with_default instead.\n",
            "\n",
            "WARNING:tensorflow:From /usr/local/lib/python3.6/dist-packages/keras/backend/tensorflow_backend.py:3733: calling dropout (from tensorflow.python.ops.nn_ops) with keep_prob is deprecated and will be removed in a future version.\n",
            "Instructions for updating:\n",
            "Please use `rate` instead of `keep_prob`. Rate should be set to `rate = 1 - keep_prob`.\n",
            "WARNING:tensorflow:From /usr/local/lib/python3.6/dist-packages/keras/backend/tensorflow_backend.py:4432: The name tf.random_uniform is deprecated. Please use tf.random.uniform instead.\n",
            "\n",
            "WARNING:tensorflow:From /usr/local/lib/python3.6/dist-packages/keras/optimizers.py:793: The name tf.train.Optimizer is deprecated. Please use tf.compat.v1.train.Optimizer instead.\n",
            "\n",
            "WARNING:tensorflow:From /usr/local/lib/python3.6/dist-packages/keras/backend/tensorflow_backend.py:3657: The name tf.log is deprecated. Please use tf.math.log instead.\n",
            "\n",
            "WARNING:tensorflow:From /usr/local/lib/python3.6/dist-packages/tensorflow_core/python/ops/nn_impl.py:183: where (from tensorflow.python.ops.array_ops) is deprecated and will be removed in a future version.\n",
            "Instructions for updating:\n",
            "Use tf.where in 2.0, which has the same broadcast rule as np.where\n",
            "WARNING:tensorflow:From /usr/local/lib/python3.6/dist-packages/keras/backend/tensorflow_backend.py:1033: The name tf.assign_add is deprecated. Please use tf.compat.v1.assign_add instead.\n",
            "\n",
            "WARNING:tensorflow:From /usr/local/lib/python3.6/dist-packages/keras/backend/tensorflow_backend.py:1020: The name tf.assign is deprecated. Please use tf.compat.v1.assign instead.\n",
            "\n",
            "WARNING:tensorflow:From /usr/local/lib/python3.6/dist-packages/keras/backend/tensorflow_backend.py:3005: The name tf.Session is deprecated. Please use tf.compat.v1.Session instead.\n",
            "\n",
            "Epoch 1/100\n",
            "WARNING:tensorflow:From /usr/local/lib/python3.6/dist-packages/keras/backend/tensorflow_backend.py:190: The name tf.get_default_session is deprecated. Please use tf.compat.v1.get_default_session instead.\n",
            "\n",
            "WARNING:tensorflow:From /usr/local/lib/python3.6/dist-packages/keras/backend/tensorflow_backend.py:197: The name tf.ConfigProto is deprecated. Please use tf.compat.v1.ConfigProto instead.\n",
            "\n",
            "WARNING:tensorflow:From /usr/local/lib/python3.6/dist-packages/keras/backend/tensorflow_backend.py:207: The name tf.global_variables is deprecated. Please use tf.compat.v1.global_variables instead.\n",
            "\n",
            "WARNING:tensorflow:From /usr/local/lib/python3.6/dist-packages/keras/backend/tensorflow_backend.py:216: The name tf.is_variable_initialized is deprecated. Please use tf.compat.v1.is_variable_initialized instead.\n",
            "\n",
            "WARNING:tensorflow:From /usr/local/lib/python3.6/dist-packages/keras/backend/tensorflow_backend.py:223: The name tf.variables_initializer is deprecated. Please use tf.compat.v1.variables_initializer instead.\n",
            "\n",
            "569/569 [==============================] - 1s 2ms/step - loss: 2.1468 - binary_accuracy: 0.5114\n",
            "Epoch 2/100\n",
            "569/569 [==============================] - 0s 131us/step - loss: 1.0321 - binary_accuracy: 0.5993\n",
            "Epoch 3/100\n",
            "569/569 [==============================] - 0s 128us/step - loss: 0.9057 - binary_accuracy: 0.6046\n",
            "Epoch 4/100\n",
            "569/569 [==============================] - 0s 129us/step - loss: 0.7122 - binary_accuracy: 0.6151\n",
            "Epoch 5/100\n",
            "569/569 [==============================] - 0s 127us/step - loss: 0.7732 - binary_accuracy: 0.6380\n",
            "Epoch 6/100\n",
            "569/569 [==============================] - 0s 125us/step - loss: 0.6448 - binary_accuracy: 0.6432\n",
            "Epoch 7/100\n",
            "569/569 [==============================] - 0s 135us/step - loss: 0.6621 - binary_accuracy: 0.6362\n",
            "Epoch 8/100\n",
            "569/569 [==============================] - 0s 136us/step - loss: 0.5461 - binary_accuracy: 0.6344\n",
            "Epoch 9/100\n",
            "569/569 [==============================] - 0s 130us/step - loss: 0.5445 - binary_accuracy: 0.6661\n",
            "Epoch 10/100\n",
            "569/569 [==============================] - 0s 143us/step - loss: 0.5686 - binary_accuracy: 0.6784\n",
            "Epoch 11/100\n",
            "569/569 [==============================] - 0s 139us/step - loss: 0.5567 - binary_accuracy: 0.6889\n",
            "Epoch 12/100\n",
            "569/569 [==============================] - 0s 129us/step - loss: 0.5417 - binary_accuracy: 0.6977\n",
            "Epoch 13/100\n",
            "569/569 [==============================] - 0s 134us/step - loss: 0.4925 - binary_accuracy: 0.7135\n",
            "Epoch 14/100\n",
            "569/569 [==============================] - 0s 131us/step - loss: 0.5406 - binary_accuracy: 0.7118\n",
            "Epoch 15/100\n",
            "569/569 [==============================] - 0s 130us/step - loss: 0.5467 - binary_accuracy: 0.7645\n",
            "Epoch 16/100\n",
            "569/569 [==============================] - 0s 126us/step - loss: 0.5194 - binary_accuracy: 0.7293\n",
            "Epoch 17/100\n",
            "569/569 [==============================] - 0s 132us/step - loss: 0.5274 - binary_accuracy: 0.7399\n",
            "Epoch 18/100\n",
            "569/569 [==============================] - 0s 136us/step - loss: 0.4645 - binary_accuracy: 0.7663\n",
            "Epoch 19/100\n",
            "569/569 [==============================] - 0s 130us/step - loss: 0.4436 - binary_accuracy: 0.7821\n",
            "Epoch 20/100\n",
            "569/569 [==============================] - 0s 144us/step - loss: 0.4565 - binary_accuracy: 0.7838\n",
            "Epoch 21/100\n",
            "569/569 [==============================] - 0s 135us/step - loss: 0.5156 - binary_accuracy: 0.7768\n",
            "Epoch 22/100\n",
            "569/569 [==============================] - 0s 132us/step - loss: 0.4375 - binary_accuracy: 0.8102\n",
            "Epoch 23/100\n",
            "569/569 [==============================] - 0s 128us/step - loss: 0.4351 - binary_accuracy: 0.7891\n",
            "Epoch 24/100\n",
            "569/569 [==============================] - 0s 135us/step - loss: 0.4229 - binary_accuracy: 0.8155\n",
            "Epoch 25/100\n",
            "569/569 [==============================] - 0s 131us/step - loss: 0.4040 - binary_accuracy: 0.8120\n",
            "Epoch 26/100\n",
            "569/569 [==============================] - 0s 132us/step - loss: 0.3887 - binary_accuracy: 0.8313\n",
            "Epoch 27/100\n",
            "569/569 [==============================] - 0s 128us/step - loss: 0.4407 - binary_accuracy: 0.7996\n",
            "Epoch 28/100\n",
            "569/569 [==============================] - 0s 129us/step - loss: 0.3990 - binary_accuracy: 0.8348\n",
            "Epoch 29/100\n",
            "569/569 [==============================] - 0s 127us/step - loss: 0.3895 - binary_accuracy: 0.8295\n",
            "Epoch 30/100\n",
            "569/569 [==============================] - 0s 132us/step - loss: 0.4050 - binary_accuracy: 0.8313\n",
            "Epoch 31/100\n",
            "569/569 [==============================] - 0s 126us/step - loss: 0.3605 - binary_accuracy: 0.8541\n",
            "Epoch 32/100\n",
            "569/569 [==============================] - 0s 136us/step - loss: 0.3802 - binary_accuracy: 0.8278\n",
            "Epoch 33/100\n",
            "569/569 [==============================] - 0s 138us/step - loss: 0.4078 - binary_accuracy: 0.8190\n",
            "Epoch 34/100\n",
            "569/569 [==============================] - 0s 132us/step - loss: 0.3638 - binary_accuracy: 0.8489\n",
            "Epoch 35/100\n",
            "569/569 [==============================] - 0s 130us/step - loss: 0.3718 - binary_accuracy: 0.8348\n",
            "Epoch 36/100\n",
            "569/569 [==============================] - 0s 133us/step - loss: 0.3579 - binary_accuracy: 0.8401\n",
            "Epoch 37/100\n",
            "569/569 [==============================] - 0s 136us/step - loss: 0.3426 - binary_accuracy: 0.8576\n",
            "Epoch 38/100\n",
            "569/569 [==============================] - 0s 130us/step - loss: 0.3518 - binary_accuracy: 0.8471\n",
            "Epoch 39/100\n",
            "569/569 [==============================] - 0s 131us/step - loss: 0.3467 - binary_accuracy: 0.8541\n",
            "Epoch 40/100\n",
            "569/569 [==============================] - 0s 132us/step - loss: 0.3491 - binary_accuracy: 0.8471\n",
            "Epoch 41/100\n",
            "569/569 [==============================] - 0s 134us/step - loss: 0.3506 - binary_accuracy: 0.8559\n",
            "Epoch 42/100\n",
            "569/569 [==============================] - 0s 129us/step - loss: 0.3384 - binary_accuracy: 0.8576\n",
            "Epoch 43/100\n",
            "569/569 [==============================] - 0s 127us/step - loss: 0.3480 - binary_accuracy: 0.8453\n",
            "Epoch 44/100\n",
            "569/569 [==============================] - 0s 143us/step - loss: 0.3377 - binary_accuracy: 0.8524\n",
            "Epoch 45/100\n",
            "569/569 [==============================] - 0s 132us/step - loss: 0.3424 - binary_accuracy: 0.8594\n",
            "Epoch 46/100\n",
            "569/569 [==============================] - 0s 129us/step - loss: 0.3344 - binary_accuracy: 0.8524\n",
            "Epoch 47/100\n",
            "569/569 [==============================] - 0s 130us/step - loss: 0.3758 - binary_accuracy: 0.8260\n",
            "Epoch 48/100\n",
            "569/569 [==============================] - 0s 148us/step - loss: 0.3521 - binary_accuracy: 0.8453\n",
            "Epoch 49/100\n",
            "569/569 [==============================] - 0s 136us/step - loss: 0.3351 - binary_accuracy: 0.8489\n",
            "Epoch 50/100\n",
            "569/569 [==============================] - 0s 130us/step - loss: 0.3513 - binary_accuracy: 0.8383\n",
            "Epoch 51/100\n",
            "569/569 [==============================] - 0s 130us/step - loss: 0.3381 - binary_accuracy: 0.8489\n",
            "Epoch 52/100\n",
            "569/569 [==============================] - 0s 129us/step - loss: 0.3384 - binary_accuracy: 0.8506\n",
            "Epoch 53/100\n",
            "569/569 [==============================] - 0s 137us/step - loss: 0.3476 - binary_accuracy: 0.8453\n",
            "Epoch 54/100\n",
            "569/569 [==============================] - 0s 130us/step - loss: 0.3078 - binary_accuracy: 0.8787\n",
            "Epoch 55/100\n",
            "569/569 [==============================] - 0s 127us/step - loss: 0.3348 - binary_accuracy: 0.8559\n",
            "Epoch 56/100\n",
            "569/569 [==============================] - 0s 134us/step - loss: 0.3604 - binary_accuracy: 0.8401\n",
            "Epoch 57/100\n",
            "569/569 [==============================] - 0s 126us/step - loss: 0.3325 - binary_accuracy: 0.8559\n",
            "Epoch 58/100\n",
            "569/569 [==============================] - 0s 136us/step - loss: 0.3500 - binary_accuracy: 0.8383\n",
            "Epoch 59/100\n",
            "569/569 [==============================] - 0s 127us/step - loss: 0.3180 - binary_accuracy: 0.8524\n",
            "Epoch 60/100\n",
            "569/569 [==============================] - 0s 126us/step - loss: 0.3409 - binary_accuracy: 0.8453\n",
            "Epoch 61/100\n",
            "569/569 [==============================] - 0s 136us/step - loss: 0.3324 - binary_accuracy: 0.8453\n",
            "Epoch 62/100\n",
            "569/569 [==============================] - 0s 128us/step - loss: 0.3218 - binary_accuracy: 0.8524\n",
            "Epoch 63/100\n",
            "569/569 [==============================] - 0s 134us/step - loss: 0.3272 - binary_accuracy: 0.8506\n",
            "Epoch 64/100\n",
            "569/569 [==============================] - 0s 142us/step - loss: 0.3277 - binary_accuracy: 0.8506\n",
            "Epoch 65/100\n",
            "569/569 [==============================] - 0s 133us/step - loss: 0.3346 - binary_accuracy: 0.8471\n",
            "Epoch 66/100\n",
            "569/569 [==============================] - 0s 134us/step - loss: 0.3173 - binary_accuracy: 0.8594\n",
            "Epoch 67/100\n",
            "569/569 [==============================] - 0s 137us/step - loss: 0.2870 - binary_accuracy: 0.8910\n",
            "Epoch 68/100\n",
            "569/569 [==============================] - 0s 132us/step - loss: 0.3355 - binary_accuracy: 0.8559\n",
            "Epoch 69/100\n",
            "569/569 [==============================] - 0s 142us/step - loss: 0.3317 - binary_accuracy: 0.8559\n",
            "Epoch 70/100\n",
            "569/569 [==============================] - 0s 130us/step - loss: 0.3392 - binary_accuracy: 0.8524\n",
            "Epoch 71/100\n",
            "569/569 [==============================] - 0s 139us/step - loss: 0.3241 - binary_accuracy: 0.8506\n",
            "Epoch 72/100\n",
            "569/569 [==============================] - 0s 133us/step - loss: 0.2802 - binary_accuracy: 0.8840\n",
            "Epoch 73/100\n",
            "569/569 [==============================] - 0s 129us/step - loss: 0.3182 - binary_accuracy: 0.8664\n",
            "Epoch 74/100\n",
            "569/569 [==============================] - 0s 138us/step - loss: 0.3354 - binary_accuracy: 0.8418\n",
            "Epoch 75/100\n",
            "569/569 [==============================] - 0s 136us/step - loss: 0.3193 - binary_accuracy: 0.8576\n",
            "Epoch 76/100\n",
            "569/569 [==============================] - 0s 131us/step - loss: 0.3273 - binary_accuracy: 0.8699\n",
            "Epoch 77/100\n",
            "569/569 [==============================] - 0s 132us/step - loss: 0.3185 - binary_accuracy: 0.8664\n",
            "Epoch 78/100\n",
            "569/569 [==============================] - 0s 130us/step - loss: 0.2913 - binary_accuracy: 0.8787\n",
            "Epoch 79/100\n",
            "569/569 [==============================] - 0s 132us/step - loss: 0.3422 - binary_accuracy: 0.8453\n",
            "Epoch 80/100\n",
            "569/569 [==============================] - 0s 124us/step - loss: 0.3162 - binary_accuracy: 0.8576\n",
            "Epoch 81/100\n",
            "569/569 [==============================] - 0s 127us/step - loss: 0.3361 - binary_accuracy: 0.8436\n",
            "Epoch 82/100\n",
            "569/569 [==============================] - 0s 136us/step - loss: 0.3263 - binary_accuracy: 0.8576\n",
            "Epoch 83/100\n",
            "569/569 [==============================] - 0s 126us/step - loss: 0.3125 - binary_accuracy: 0.8647\n",
            "Epoch 84/100\n",
            "569/569 [==============================] - 0s 124us/step - loss: 0.3150 - binary_accuracy: 0.8612\n",
            "Epoch 85/100\n",
            "569/569 [==============================] - 0s 133us/step - loss: 0.3011 - binary_accuracy: 0.8647\n",
            "Epoch 86/100\n",
            "569/569 [==============================] - 0s 131us/step - loss: 0.3135 - binary_accuracy: 0.8682\n",
            "Epoch 87/100\n",
            "569/569 [==============================] - 0s 123us/step - loss: 0.3114 - binary_accuracy: 0.8664\n",
            "Epoch 88/100\n",
            "569/569 [==============================] - 0s 127us/step - loss: 0.3364 - binary_accuracy: 0.8401\n",
            "Epoch 89/100\n",
            "569/569 [==============================] - 0s 130us/step - loss: 0.3186 - binary_accuracy: 0.8524\n",
            "Epoch 90/100\n",
            "569/569 [==============================] - 0s 123us/step - loss: 0.3118 - binary_accuracy: 0.8629\n",
            "Epoch 91/100\n",
            "569/569 [==============================] - 0s 133us/step - loss: 0.3409 - binary_accuracy: 0.8436\n",
            "Epoch 92/100\n",
            "569/569 [==============================] - 0s 135us/step - loss: 0.3134 - binary_accuracy: 0.8576\n",
            "Epoch 93/100\n",
            "569/569 [==============================] - 0s 128us/step - loss: 0.3509 - binary_accuracy: 0.8366\n",
            "Epoch 94/100\n",
            "569/569 [==============================] - 0s 141us/step - loss: 0.3429 - binary_accuracy: 0.8401\n",
            "Epoch 95/100\n",
            "569/569 [==============================] - 0s 127us/step - loss: 0.2837 - binary_accuracy: 0.8717\n",
            "Epoch 96/100\n",
            "569/569 [==============================] - 0s 133us/step - loss: 0.2856 - binary_accuracy: 0.8770\n",
            "Epoch 97/100\n",
            "569/569 [==============================] - 0s 124us/step - loss: 0.3124 - binary_accuracy: 0.8594\n",
            "Epoch 98/100\n",
            "569/569 [==============================] - 0s 125us/step - loss: 0.3371 - binary_accuracy: 0.8453\n",
            "Epoch 99/100\n",
            "569/569 [==============================] - 0s 135us/step - loss: 0.3478 - binary_accuracy: 0.8330\n",
            "Epoch 100/100\n",
            "569/569 [==============================] - 0s 131us/step - loss: 0.2995 - binary_accuracy: 0.8699\n"
          ],
          "name": "stdout"
        },
        {
          "output_type": "execute_result",
          "data": {
            "text/plain": [
              "<keras.callbacks.History at 0x7f50703058d0>"
            ]
          },
          "metadata": {
            "tags": []
          },
          "execution_count": 7
        }
      ]
    },
    {
      "cell_type": "code",
      "metadata": {
        "id": "vWJyaLzZnIG5",
        "colab_type": "code",
        "colab": {
          "base_uri": "https://localhost:8080/",
          "height": 35
        },
        "outputId": "8dd7c00e-8d6a-4373-ebf8-75d64a04b0f0"
      },
      "source": [
        "novo = np.array([[17,8.5,80,800,0.1,0.2,0.5,0.2,0.2,0.2,0.04,1020,0.87,5000,147,0.004,0.03,0.02,0.02,0.03,0.007,23,17,180,2018,0.14,0.186,0.84,160,0.37]])\n",
        "\n",
        "previsao = rede.predict(novo)\n",
        "print(previsao > 0.5)"
      ],
      "execution_count": 21,
      "outputs": [
        {
          "output_type": "stream",
          "text": [
            "[[ True]]\n"
          ],
          "name": "stdout"
        }
      ]
    },
    {
      "cell_type": "code",
      "metadata": {
        "id": "8FLciDq_n7s8",
        "colab_type": "code",
        "colab": {}
      },
      "source": [
        ""
      ],
      "execution_count": 0,
      "outputs": []
    }
  ]
}