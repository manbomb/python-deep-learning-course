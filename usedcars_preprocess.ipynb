{
  "nbformat": 4,
  "nbformat_minor": 0,
  "metadata": {
    "colab": {
      "name": "usedcars_preprocess.ipynb",
      "provenance": []
    },
    "kernelspec": {
      "name": "python3",
      "display_name": "Python 3"
    }
  },
  "cells": [
    {
      "cell_type": "code",
      "metadata": {
        "id": "Umie0LAwVau3",
        "colab_type": "code",
        "colab": {}
      },
      "source": [
        "import pandas as pd\n",
        "from google.colab import files\n",
        "import io"
      ],
      "execution_count": 0,
      "outputs": []
    },
    {
      "cell_type": "code",
      "metadata": {
        "id": "5BN-YDIcVipd",
        "colab_type": "code",
        "outputId": "1f9f0cd2-f1ee-403b-8952-1f59fc9e8a08",
        "colab": {
          "resources": {
            "http://localhost:8080/nbextensions/google.colab/files.js": {
              "data": "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",
              "ok": true,
              "headers": [
                [
                  "content-type",
                  "application/javascript"
                ]
              ],
              "status": 200,
              "status_text": ""
            }
          },
          "base_uri": "https://localhost:8080/",
          "height": 73
        }
      },
      "source": [
        "uploaded = files.upload()"
      ],
      "execution_count": 0,
      "outputs": [
        {
          "output_type": "display_data",
          "data": {
            "text/html": [
              "\n",
              "     <input type=\"file\" id=\"files-69d1ab23-3211-43f2-be03-1cf025f0439c\" name=\"files[]\" multiple disabled />\n",
              "     <output id=\"result-69d1ab23-3211-43f2-be03-1cf025f0439c\">\n",
              "      Upload widget is only available when the cell has been executed in the\n",
              "      current browser session. Please rerun this cell to enable.\n",
              "      </output>\n",
              "      <script src=\"/nbextensions/google.colab/files.js\"></script> "
            ],
            "text/plain": [
              "<IPython.core.display.HTML object>"
            ]
          },
          "metadata": {
            "tags": []
          }
        },
        {
          "output_type": "stream",
          "text": [
            "Saving autos.csv to autos.csv\n"
          ],
          "name": "stdout"
        }
      ]
    },
    {
      "cell_type": "code",
      "metadata": {
        "id": "pmXXb9K0VtFi",
        "colab_type": "code",
        "colab": {}
      },
      "source": [
        "base = pd.read_csv(io.BytesIO(uploaded['autos.csv']), encoding='ISO-8859-1')"
      ],
      "execution_count": 0,
      "outputs": []
    },
    {
      "cell_type": "code",
      "metadata": {
        "id": "yHj-uRLPWhfJ",
        "colab_type": "code",
        "outputId": "207922d2-216c-4d2a-9f23-c29f91b4158d",
        "colab": {
          "base_uri": "https://localhost:8080/",
          "height": 256
        }
      },
      "source": [
        "print(base)"
      ],
      "execution_count": 0,
      "outputs": [
        {
          "output_type": "stream",
          "text": [
            "                                                name  ... notRepairedDamage\n",
            "0                                         Golf_3_1.6  ...               NaN\n",
            "1                               A5_Sportback_2.7_Tdi  ...                ja\n",
            "2                     Jeep_Grand_Cherokee_\"Overland\"  ...               NaN\n",
            "3                                 GOLF_4_1_4__3TÜRER  ...              nein\n",
            "4                     Skoda_Fabia_1.4_TDI_PD_Classic  ...              nein\n",
            "...                                              ...  ...               ...\n",
            "371523                    Suche_t4___vito_ab_6_sitze  ...               NaN\n",
            "371524         Smart_smart_leistungssteigerung_100ps  ...              nein\n",
            "371525            Volkswagen_Multivan_T4_TDI_7DC_UY2  ...              nein\n",
            "371526                        VW_Golf_Kombi_1_9l_TDI  ...               NaN\n",
            "371527  BMW_M135i_vollausgestattet_NP_52.720____Euro  ...              nein\n",
            "\n",
            "[371528 rows x 15 columns]\n"
          ],
          "name": "stdout"
        }
      ]
    },
    {
      "cell_type": "code",
      "metadata": {
        "id": "7f28VEL_WrED",
        "colab_type": "code",
        "colab": {}
      },
      "source": [
        "base = base.drop('dateCrawled',axis=1)\n",
        "base = base.drop('dateCreated',axis=1)\n",
        "base = base.drop('nrOfPictures',axis=1)\n",
        "base = base.drop('postalCode', axis=1)\n",
        "base = base.drop('lastSeen', axis=1) #Already executed"
      ],
      "execution_count": 0,
      "outputs": []
    },
    {
      "cell_type": "code",
      "metadata": {
        "id": "V75gSK5ZXM9n",
        "colab_type": "code",
        "outputId": "6a19b12a-721c-48a0-f1fa-27d8e2f5ba5f",
        "colab": {
          "base_uri": "https://localhost:8080/",
          "height": 221
        }
      },
      "source": [
        "base['name'].value_counts()"
      ],
      "execution_count": 0,
      "outputs": [
        {
          "output_type": "execute_result",
          "data": {
            "text/plain": [
              "Ford_Fiesta                                                       657\n",
              "BMW_318i                                                          627\n",
              "Opel_Corsa                                                        622\n",
              "Volkswagen_Golf_1.4                                               603\n",
              "BMW_316i                                                          523\n",
              "                                                                 ... \n",
              "Audi_a3_angebot                                                     1\n",
              "Suzuki_Grand_Vitara_XL_7_2.0_TD_Comfort                             1\n",
              "Fiat_Cinquecento_Typ_170                                            1\n",
              "Opel_Astra_Coupe_1.8_16V_an_BASTLER!                                1\n",
              "Gut_erhaltenes_Auto__tauschen_oder_verkaufen__Golf_1_4_Edition      1\n",
              "Name: name, Length: 233531, dtype: int64"
            ]
          },
          "metadata": {
            "tags": []
          },
          "execution_count": 16
        }
      ]
    },
    {
      "cell_type": "code",
      "metadata": {
        "id": "XIS2VHCjX3Ur",
        "colab_type": "code",
        "colab": {}
      },
      "source": [
        "base = base.drop('name', axis=1)"
      ],
      "execution_count": 0,
      "outputs": []
    },
    {
      "cell_type": "code",
      "metadata": {
        "id": "TNl-eoHJYFtB",
        "colab_type": "code",
        "outputId": "2fb7b456-98e7-45ed-a01a-3f970e39955c",
        "colab": {
          "base_uri": "https://localhost:8080/",
          "height": 68
        }
      },
      "source": [
        "base['seller'].value_counts()"
      ],
      "execution_count": 0,
      "outputs": [
        {
          "output_type": "execute_result",
          "data": {
            "text/plain": [
              "privat        371525\n",
              "gewerblich         3\n",
              "Name: seller, dtype: int64"
            ]
          },
          "metadata": {
            "tags": []
          },
          "execution_count": 18
        }
      ]
    },
    {
      "cell_type": "code",
      "metadata": {
        "id": "rxTVW8OcYNgd",
        "colab_type": "code",
        "colab": {}
      },
      "source": [
        "base = base.drop('seller', axis=1)"
      ],
      "execution_count": 0,
      "outputs": []
    },
    {
      "cell_type": "code",
      "metadata": {
        "id": "Y5bGeRwvYRir",
        "colab_type": "code",
        "outputId": "f9975698-3cb4-4ae9-eb8f-b25336fa1c01",
        "colab": {
          "base_uri": "https://localhost:8080/",
          "height": 68
        }
      },
      "source": [
        "base['offerType'].value_counts()"
      ],
      "execution_count": 0,
      "outputs": [
        {
          "output_type": "execute_result",
          "data": {
            "text/plain": [
              "Angebot    371516\n",
              "Gesuch         12\n",
              "Name: offerType, dtype: int64"
            ]
          },
          "metadata": {
            "tags": []
          },
          "execution_count": 20
        }
      ]
    },
    {
      "cell_type": "code",
      "metadata": {
        "id": "OvNdFBaNYWWa",
        "colab_type": "code",
        "colab": {}
      },
      "source": [
        "base = base.drop('offerType', axis=1)"
      ],
      "execution_count": 0,
      "outputs": []
    },
    {
      "cell_type": "code",
      "metadata": {
        "id": "X8qYDpcbYacp",
        "colab_type": "code",
        "outputId": "85120892-0c7b-4946-ee34-870f2574ff8e",
        "colab": {
          "base_uri": "https://localhost:8080/",
          "height": 256
        }
      },
      "source": [
        "i1 = base.loc[base.price <= 10] # precos menores que 10 euros (inconsistente)\n",
        "print(i1)"
      ],
      "execution_count": 0,
      "outputs": [
        {
          "output_type": "stream",
          "text": [
            "        price   abtest vehicleType  ...  fuelType           brand  notRepairedDamage\n",
            "7           0     test   limousine  ...    benzin      volkswagen               nein\n",
            "40          0     test         NaN  ...    benzin            opel                NaN\n",
            "60          1  control         suv  ...       NaN  sonstige_autos                NaN\n",
            "91          1  control   limousine  ...    diesel   mercedes_benz               nein\n",
            "115         0     test         NaN  ...    benzin      volkswagen                NaN\n",
            "...       ...      ...         ...  ...       ...             ...                ...\n",
            "371356      0  control         NaN  ...       NaN            opel                 ja\n",
            "371392      0     test  kleinwagen  ...    benzin            ford                NaN\n",
            "371402      0  control  kleinwagen  ...    benzin          suzuki                NaN\n",
            "371431      0  control  kleinwagen  ...    benzin            seat                 ja\n",
            "371522      0  control         NaN  ...    benzin      mitsubishi                 ja\n",
            "\n",
            "[12118 rows x 12 columns]\n"
          ],
          "name": "stdout"
        }
      ]
    },
    {
      "cell_type": "code",
      "metadata": {
        "id": "4-Z_LqygYpx8",
        "colab_type": "code",
        "colab": {}
      },
      "source": [
        "base = base[base.price > 10] # deixa apenas os com precos maiores que 10"
      ],
      "execution_count": 0,
      "outputs": []
    },
    {
      "cell_type": "code",
      "metadata": {
        "id": "MeKE-NF9ZUSK",
        "colab_type": "code",
        "outputId": "dd807910-1716-47a5-a1bf-6279515e8893",
        "colab": {
          "base_uri": "https://localhost:8080/",
          "height": 256
        }
      },
      "source": [
        "i2 = base.loc[base.price > 350000] # precos meiores que 350000 euros (inconsistente)\n",
        "print(i2)"
      ],
      "execution_count": 0,
      "outputs": [
        {
          "output_type": "stream",
          "text": [
            "           price   abtest  ...           brand  notRepairedDamage\n",
            "1846      579000  control  ...             bmw               nein\n",
            "10649     420000  control  ...         porsche               nein\n",
            "14663   11111111  control  ...      volkswagen                NaN\n",
            "16889    1000000  control  ...            ford                 ja\n",
            "20143    1250000     test  ...         porsche               nein\n",
            "...          ...      ...  ...             ...                ...\n",
            "364171   3890000     test  ...  sonstige_autos               nein\n",
            "365461    599000  control  ...             bmw               nein\n",
            "366653  99999999  control  ...             bmw                NaN\n",
            "366861   3895000     test  ...  sonstige_autos               nein\n",
            "367041   1600000     test  ...  sonstige_autos               nein\n",
            "\n",
            "[115 rows x 12 columns]\n"
          ],
          "name": "stdout"
        }
      ]
    },
    {
      "cell_type": "code",
      "metadata": {
        "id": "Hxr9kKJSZeNM",
        "colab_type": "code",
        "colab": {}
      },
      "source": [
        "base = base[base.price <= 350000] # deixa apenas os com precos menores ou iguais a 350000"
      ],
      "execution_count": 0,
      "outputs": []
    },
    {
      "cell_type": "code",
      "metadata": {
        "id": "WPyV8WS3Zq_J",
        "colab_type": "code",
        "outputId": "b35dade3-f1cf-406b-b97c-9370b5e6022c",
        "colab": {
          "base_uri": "https://localhost:8080/",
          "height": 170
        }
      },
      "source": [
        "base.loc[pd.isnull(base['vehicleType'])] # muitas linhas com vehicleType igual a NULL ou NAN\n",
        "base['vehicleType'].value_counts() #limousine e o mais comum"
      ],
      "execution_count": 0,
      "outputs": [
        {
          "output_type": "execute_result",
          "data": {
            "text/plain": [
              "limousine     93615\n",
              "kleinwagen    78014\n",
              "kombi         65921\n",
              "bus           29699\n",
              "cabrio        22510\n",
              "coupe         18387\n",
              "suv           14477\n",
              "andere         3125\n",
              "Name: vehicleType, dtype: int64"
            ]
          },
          "metadata": {
            "tags": []
          },
          "execution_count": 32
        }
      ]
    },
    {
      "cell_type": "code",
      "metadata": {
        "id": "-s6asn3DZ75U",
        "colab_type": "code",
        "outputId": "c44b7d14-3bfb-40ef-98e6-2efd20d53859",
        "colab": {
          "base_uri": "https://localhost:8080/",
          "height": 68
        }
      },
      "source": [
        "base.loc[pd.isnull(base['gearbox'])] # 17237 linhas com gearbox nulo\n",
        "base['gearbox'].value_counts() # manuell é o mais comum"
      ],
      "execution_count": 0,
      "outputs": [
        {
          "output_type": "execute_result",
          "data": {
            "text/plain": [
              "manuell      266549\n",
              "automatik     75509\n",
              "Name: gearbox, dtype: int64"
            ]
          },
          "metadata": {
            "tags": []
          },
          "execution_count": 35
        }
      ]
    },
    {
      "cell_type": "code",
      "metadata": {
        "id": "43VvxN5laJvO",
        "colab_type": "code",
        "outputId": "94fd6aad-ab24-4e97-a0a2-6468207c5e34",
        "colab": {
          "base_uri": "https://localhost:8080/",
          "height": 153
        }
      },
      "source": [
        "base.loc[pd.isnull(base['fuelType'])] #29392 linhas nulas\n",
        "base['fuelType'].value_counts() #benzin é o mais comum"
      ],
      "execution_count": 0,
      "outputs": [
        {
          "output_type": "execute_result",
          "data": {
            "text/plain": [
              "benzin     217585\n",
              "diesel     106002\n",
              "lpg          5222\n",
              "cng           557\n",
              "hybrid        271\n",
              "andere        165\n",
              "elektro       101\n",
              "Name: fuelType, dtype: int64"
            ]
          },
          "metadata": {
            "tags": []
          },
          "execution_count": 38
        }
      ]
    },
    {
      "cell_type": "code",
      "metadata": {
        "id": "l_NOLg9JbA2D",
        "colab_type": "code",
        "outputId": "959f7f2e-b502-4ab2-a9de-c5b19064e50d",
        "colab": {
          "base_uri": "https://localhost:8080/",
          "height": 68
        }
      },
      "source": [
        "base.loc[pd.isnull(base['notRepairedDamage'])] # 65987 linhas nulas\n",
        "base['notRepairedDamage'].value_counts() #nein é o mais comum"
      ],
      "execution_count": 0,
      "outputs": [
        {
          "output_type": "execute_result",
          "data": {
            "text/plain": [
              "nein    259304\n",
              "ja       34004\n",
              "Name: notRepairedDamage, dtype: int64"
            ]
          },
          "metadata": {
            "tags": []
          },
          "execution_count": 41
        }
      ]
    },
    {
      "cell_type": "code",
      "metadata": {
        "id": "UacTsiq-bV6l",
        "colab_type": "code",
        "colab": {}
      },
      "source": [
        "valores = {'vehicleType':'limousine',\n",
        "           'gearbox':'manuell',\n",
        "           'model':'golf',\n",
        "           'fuelType':'benzin',\n",
        "           'notRepairedDamage':'nein'}"
      ],
      "execution_count": 0,
      "outputs": []
    },
    {
      "cell_type": "code",
      "metadata": {
        "id": "DBEdzuNscCJ4",
        "colab_type": "code",
        "colab": {}
      },
      "source": [
        "base = base.fillna(value=valores)"
      ],
      "execution_count": 0,
      "outputs": []
    },
    {
      "cell_type": "code",
      "metadata": {
        "id": "7yd1Dy_rcJdE",
        "colab_type": "code",
        "outputId": "ecc8b94c-2865-4847-c1b6-ac4f1c357b10",
        "colab": {
          "base_uri": "https://localhost:8080/",
          "height": 48
        }
      },
      "source": [
        "base.loc[pd.isnull(base['fuelType'])] # testando o resultado da função fillna"
      ],
      "execution_count": 0,
      "outputs": [
        {
          "output_type": "execute_result",
          "data": {
            "text/html": [
              "<div>\n",
              "<style scoped>\n",
              "    .dataframe tbody tr th:only-of-type {\n",
              "        vertical-align: middle;\n",
              "    }\n",
              "\n",
              "    .dataframe tbody tr th {\n",
              "        vertical-align: top;\n",
              "    }\n",
              "\n",
              "    .dataframe thead th {\n",
              "        text-align: right;\n",
              "    }\n",
              "</style>\n",
              "<table border=\"1\" class=\"dataframe\">\n",
              "  <thead>\n",
              "    <tr style=\"text-align: right;\">\n",
              "      <th></th>\n",
              "      <th>price</th>\n",
              "      <th>abtest</th>\n",
              "      <th>vehicleType</th>\n",
              "      <th>yearOfRegistration</th>\n",
              "      <th>gearbox</th>\n",
              "      <th>powerPS</th>\n",
              "      <th>model</th>\n",
              "      <th>kilometer</th>\n",
              "      <th>monthOfRegistration</th>\n",
              "      <th>fuelType</th>\n",
              "      <th>brand</th>\n",
              "      <th>notRepairedDamage</th>\n",
              "    </tr>\n",
              "  </thead>\n",
              "  <tbody>\n",
              "  </tbody>\n",
              "</table>\n",
              "</div>"
            ],
            "text/plain": [
              "Empty DataFrame\n",
              "Columns: [price, abtest, vehicleType, yearOfRegistration, gearbox, powerPS, model, kilometer, monthOfRegistration, fuelType, brand, notRepairedDamage]\n",
              "Index: []"
            ]
          },
          "metadata": {
            "tags": []
          },
          "execution_count": 46
        }
      ]
    },
    {
      "cell_type": "code",
      "metadata": {
        "id": "MfHgP3lpcNY0",
        "colab_type": "code",
        "colab": {}
      },
      "source": [
        "previsores = base.iloc[:,1:13].values\n",
        "preco_real = base.iloc[:,0].values"
      ],
      "execution_count": 0,
      "outputs": []
    },
    {
      "cell_type": "code",
      "metadata": {
        "id": "nRoNWqww0rcA",
        "colab_type": "code",
        "colab": {}
      },
      "source": [
        "from sklearn.preprocessing import LabelEncoder, OneHotEncoder"
      ],
      "execution_count": 0,
      "outputs": []
    },
    {
      "cell_type": "code",
      "metadata": {
        "id": "fV6GUi8v1WA3",
        "colab_type": "code",
        "colab": {}
      },
      "source": [
        "labelencoder_previsores = LabelEncoder()"
      ],
      "execution_count": 0,
      "outputs": []
    },
    {
      "cell_type": "code",
      "metadata": {
        "id": "YPbC656X1pEo",
        "colab_type": "code",
        "colab": {}
      },
      "source": [
        "previsores[:,0] = labelencoder_previsores.fit_transform(previsores[:,0])\n",
        "previsores[:,1] = labelencoder_previsores.fit_transform(previsores[:,1])\n",
        "previsores[:,3] = labelencoder_previsores.fit_transform(previsores[:,3])\n",
        "previsores[:,5] = labelencoder_previsores.fit_transform(previsores[:,5])\n",
        "previsores[:,8] = labelencoder_previsores.fit_transform(previsores[:,8])\n",
        "previsores[:,9] = labelencoder_previsores.fit_transform(previsores[:,9])\n",
        "previsores[:,10] = labelencoder_previsores.fit_transform(previsores[:,10])"
      ],
      "execution_count": 0,
      "outputs": []
    },
    {
      "cell_type": "code",
      "metadata": {
        "id": "q8wxMjJx1zPJ",
        "colab_type": "code",
        "outputId": "42533c14-8d45-4ce0-de54-a1c7f0475371",
        "colab": {
          "base_uri": "https://localhost:8080/",
          "height": 139
        }
      },
      "source": [
        "onehotencoder = OneHotEncoder(categorical_features=[0,1,3,5,8,9,10])\n",
        "previsores = onehotencoder.fit_transform(previsores).toarray()"
      ],
      "execution_count": 0,
      "outputs": [
        {
          "output_type": "stream",
          "text": [
            "/usr/local/lib/python3.6/dist-packages/sklearn/preprocessing/_encoders.py:415: FutureWarning: The handling of integer data will change in version 0.22. Currently, the categories are determined based on the range [0, max(values)], while in the future they will be determined based on the unique values.\n",
            "If you want the future behaviour and silence this warning, you can specify \"categories='auto'\".\n",
            "In case you used a LabelEncoder before this OneHotEncoder to convert the categories to integers, then you can now use the OneHotEncoder directly.\n",
            "  warnings.warn(msg, FutureWarning)\n",
            "/usr/local/lib/python3.6/dist-packages/sklearn/preprocessing/_encoders.py:451: DeprecationWarning: The 'categorical_features' keyword is deprecated in version 0.20 and will be removed in 0.22. You can use the ColumnTransformer instead.\n",
            "  \"use the ColumnTransformer instead.\", DeprecationWarning)\n"
          ],
          "name": "stderr"
        }
      ]
    },
    {
      "cell_type": "code",
      "metadata": {
        "id": "IVqIcIbX36w0",
        "colab_type": "code",
        "colab": {}
      },
      "source": [
        "from keras.layers import Dense\n",
        "from keras.models import Sequential"
      ],
      "execution_count": 0,
      "outputs": []
    },
    {
      "cell_type": "code",
      "metadata": {
        "id": "z4tiU-jE4TS0",
        "colab_type": "code",
        "colab": {}
      },
      "source": [
        "regressor = Sequential()\n",
        "regressor.add(Dense(units=158, activation='relu', input_dim=316))\n",
        "regressor.add(Dense(units=158, activation='relu'))\n",
        "regressor.add(Dense(units=1, activation='linear'))\n",
        "regressor.compile(loss='mean_absolute_error', optimizer='adam', metrics=['mean_absolute_error'])"
      ],
      "execution_count": 0,
      "outputs": []
    },
    {
      "cell_type": "code",
      "metadata": {
        "id": "8zD4aqHO5Jwn",
        "colab_type": "code",
        "outputId": "c0ca5e78-8b4d-4e29-830b-d72094b24975",
        "colab": {
          "base_uri": "https://localhost:8080/",
          "height": 1000
        }
      },
      "source": [
        "regressor.fit(previsores,preco_real,batch_size=300,epochs=100)"
      ],
      "execution_count": 0,
      "outputs": [
        {
          "output_type": "stream",
          "text": [
            "WARNING:tensorflow:From /usr/local/lib/python3.6/dist-packages/keras/backend/tensorflow_backend.py:1033: The name tf.assign_add is deprecated. Please use tf.compat.v1.assign_add instead.\n",
            "\n",
            "WARNING:tensorflow:From /usr/local/lib/python3.6/dist-packages/keras/backend/tensorflow_backend.py:1020: The name tf.assign is deprecated. Please use tf.compat.v1.assign instead.\n",
            "\n",
            "WARNING:tensorflow:From /usr/local/lib/python3.6/dist-packages/keras/backend/tensorflow_backend.py:3005: The name tf.Session is deprecated. Please use tf.compat.v1.Session instead.\n",
            "\n",
            "Epoch 1/100\n",
            "WARNING:tensorflow:From /usr/local/lib/python3.6/dist-packages/keras/backend/tensorflow_backend.py:190: The name tf.get_default_session is deprecated. Please use tf.compat.v1.get_default_session instead.\n",
            "\n",
            "WARNING:tensorflow:From /usr/local/lib/python3.6/dist-packages/keras/backend/tensorflow_backend.py:197: The name tf.ConfigProto is deprecated. Please use tf.compat.v1.ConfigProto instead.\n",
            "\n",
            "WARNING:tensorflow:From /usr/local/lib/python3.6/dist-packages/keras/backend/tensorflow_backend.py:207: The name tf.global_variables is deprecated. Please use tf.compat.v1.global_variables instead.\n",
            "\n",
            "WARNING:tensorflow:From /usr/local/lib/python3.6/dist-packages/keras/backend/tensorflow_backend.py:216: The name tf.is_variable_initialized is deprecated. Please use tf.compat.v1.is_variable_initialized instead.\n",
            "\n",
            "WARNING:tensorflow:From /usr/local/lib/python3.6/dist-packages/keras/backend/tensorflow_backend.py:223: The name tf.variables_initializer is deprecated. Please use tf.compat.v1.variables_initializer instead.\n",
            "\n",
            "359295/359295 [==============================] - 9s 25us/step - loss: 3838.1010 - mean_absolute_error: 3838.1010\n",
            "Epoch 2/100\n",
            "359295/359295 [==============================] - 8s 21us/step - loss: 3362.2592 - mean_absolute_error: 3362.2592\n",
            "Epoch 3/100\n",
            "359295/359295 [==============================] - 7s 20us/step - loss: 3102.5911 - mean_absolute_error: 3102.5911\n",
            "Epoch 4/100\n",
            "359295/359295 [==============================] - 6s 18us/step - loss: 2926.3396 - mean_absolute_error: 2926.3396\n",
            "Epoch 5/100\n",
            "359295/359295 [==============================] - 6s 18us/step - loss: 2846.9657 - mean_absolute_error: 2846.9657\n",
            "Epoch 6/100\n",
            "359295/359295 [==============================] - 6s 18us/step - loss: 2794.1977 - mean_absolute_error: 2794.1977\n",
            "Epoch 7/100\n",
            "359295/359295 [==============================] - 6s 17us/step - loss: 2728.5244 - mean_absolute_error: 2728.5244\n",
            "Epoch 8/100\n",
            "359295/359295 [==============================] - 6s 17us/step - loss: 2694.4067 - mean_absolute_error: 2694.4067\n",
            "Epoch 9/100\n",
            "359295/359295 [==============================] - 6s 17us/step - loss: 2648.1502 - mean_absolute_error: 2648.1502\n",
            "Epoch 10/100\n",
            "359295/359295 [==============================] - 6s 17us/step - loss: 2603.2992 - mean_absolute_error: 2603.2992\n",
            "Epoch 11/100\n",
            "359295/359295 [==============================] - 6s 18us/step - loss: 2563.0121 - mean_absolute_error: 2563.0121\n",
            "Epoch 12/100\n",
            "359295/359295 [==============================] - 6s 17us/step - loss: 2546.5396 - mean_absolute_error: 2546.5396\n",
            "Epoch 13/100\n",
            "359295/359295 [==============================] - 6s 17us/step - loss: 2513.2550 - mean_absolute_error: 2513.2550\n",
            "Epoch 14/100\n",
            "359295/359295 [==============================] - 6s 17us/step - loss: 2491.8028 - mean_absolute_error: 2491.8028\n",
            "Epoch 15/100\n",
            "359295/359295 [==============================] - 7s 18us/step - loss: 2468.4386 - mean_absolute_error: 2468.4386\n",
            "Epoch 16/100\n",
            "359295/359295 [==============================] - 7s 18us/step - loss: 2452.8955 - mean_absolute_error: 2452.8955\n",
            "Epoch 17/100\n",
            "359295/359295 [==============================] - 7s 20us/step - loss: 2449.6092 - mean_absolute_error: 2449.6092\n",
            "Epoch 18/100\n",
            "359295/359295 [==============================] - 7s 21us/step - loss: 2445.5594 - mean_absolute_error: 2445.5594\n",
            "Epoch 19/100\n",
            "359295/359295 [==============================] - 8s 22us/step - loss: 2435.6612 - mean_absolute_error: 2435.6612\n",
            "Epoch 20/100\n",
            "359295/359295 [==============================] - 8s 23us/step - loss: 2423.4597 - mean_absolute_error: 2423.4597\n",
            "Epoch 21/100\n",
            "359295/359295 [==============================] - 8s 22us/step - loss: 2409.0709 - mean_absolute_error: 2409.0709\n",
            "Epoch 22/100\n",
            "359295/359295 [==============================] - 7s 20us/step - loss: 2402.4282 - mean_absolute_error: 2402.4282\n",
            "Epoch 23/100\n",
            "359295/359295 [==============================] - 7s 18us/step - loss: 2410.9592 - mean_absolute_error: 2410.9592\n",
            "Epoch 24/100\n",
            "359295/359295 [==============================] - 6s 18us/step - loss: 2394.3037 - mean_absolute_error: 2394.3037\n",
            "Epoch 25/100\n",
            "359295/359295 [==============================] - 6s 17us/step - loss: 2396.7964 - mean_absolute_error: 2396.7964\n",
            "Epoch 26/100\n",
            "359295/359295 [==============================] - 6s 17us/step - loss: 2375.0328 - mean_absolute_error: 2375.0328\n",
            "Epoch 27/100\n",
            "359295/359295 [==============================] - 6s 17us/step - loss: 2377.5609 - mean_absolute_error: 2377.5609\n",
            "Epoch 28/100\n",
            "359295/359295 [==============================] - 6s 17us/step - loss: 2366.3620 - mean_absolute_error: 2366.3620\n",
            "Epoch 29/100\n",
            "359295/359295 [==============================] - 6s 17us/step - loss: 2384.1751 - mean_absolute_error: 2384.1751\n",
            "Epoch 30/100\n",
            "359295/359295 [==============================] - 6s 17us/step - loss: 2360.9852 - mean_absolute_error: 2360.9852\n",
            "Epoch 31/100\n",
            "359295/359295 [==============================] - 6s 17us/step - loss: 2370.6269 - mean_absolute_error: 2370.6269\n",
            "Epoch 32/100\n",
            "359295/359295 [==============================] - 6s 17us/step - loss: 2360.7835 - mean_absolute_error: 2360.7835\n",
            "Epoch 33/100\n",
            "359295/359295 [==============================] - 6s 17us/step - loss: 2341.6039 - mean_absolute_error: 2341.6039\n",
            "Epoch 34/100\n",
            "359295/359295 [==============================] - 6s 18us/step - loss: 2351.9783 - mean_absolute_error: 2351.9783\n",
            "Epoch 35/100\n",
            "359295/359295 [==============================] - 6s 17us/step - loss: 2353.2093 - mean_absolute_error: 2353.2093\n",
            "Epoch 36/100\n",
            "359295/359295 [==============================] - 6s 18us/step - loss: 2344.6770 - mean_absolute_error: 2344.6770\n",
            "Epoch 37/100\n",
            "359295/359295 [==============================] - 7s 19us/step - loss: 2350.6310 - mean_absolute_error: 2350.6310\n",
            "Epoch 38/100\n",
            "359295/359295 [==============================] - 7s 20us/step - loss: 2359.1055 - mean_absolute_error: 2359.1055\n",
            "Epoch 39/100\n",
            "359295/359295 [==============================] - 7s 20us/step - loss: 2339.6739 - mean_absolute_error: 2339.6739\n",
            "Epoch 40/100\n",
            "359295/359295 [==============================] - 8s 21us/step - loss: 2342.4801 - mean_absolute_error: 2342.4801\n",
            "Epoch 41/100\n",
            "359295/359295 [==============================] - 8s 21us/step - loss: 2325.5005 - mean_absolute_error: 2325.5005\n",
            "Epoch 42/100\n",
            "359295/359295 [==============================] - 7s 21us/step - loss: 2346.8204 - mean_absolute_error: 2346.8204\n",
            "Epoch 43/100\n",
            "359295/359295 [==============================] - 7s 20us/step - loss: 2320.6288 - mean_absolute_error: 2320.6288\n",
            "Epoch 44/100\n",
            "359295/359295 [==============================] - 7s 19us/step - loss: 2322.9567 - mean_absolute_error: 2322.9567\n",
            "Epoch 45/100\n",
            "359295/359295 [==============================] - 7s 19us/step - loss: 2319.3184 - mean_absolute_error: 2319.3184\n",
            "Epoch 46/100\n",
            "359295/359295 [==============================] - 6s 18us/step - loss: 2333.2079 - mean_absolute_error: 2333.2079\n",
            "Epoch 47/100\n",
            "359295/359295 [==============================] - 6s 18us/step - loss: 2328.9666 - mean_absolute_error: 2328.9666\n",
            "Epoch 48/100\n",
            "359295/359295 [==============================] - 6s 18us/step - loss: 2325.2590 - mean_absolute_error: 2325.2590\n",
            "Epoch 49/100\n",
            "359295/359295 [==============================] - 6s 17us/step - loss: 2312.2470 - mean_absolute_error: 2312.2470\n",
            "Epoch 50/100\n",
            "359295/359295 [==============================] - 6s 17us/step - loss: 2318.0405 - mean_absolute_error: 2318.0405\n",
            "Epoch 51/100\n",
            "359295/359295 [==============================] - 6s 17us/step - loss: 2307.0311 - mean_absolute_error: 2307.0311\n",
            "Epoch 52/100\n",
            "359295/359295 [==============================] - 6s 17us/step - loss: 2317.6445 - mean_absolute_error: 2317.6445\n",
            "Epoch 53/100\n",
            "359295/359295 [==============================] - 6s 17us/step - loss: 2299.3440 - mean_absolute_error: 2299.3440\n",
            "Epoch 54/100\n",
            "359295/359295 [==============================] - 6s 18us/step - loss: 2303.9089 - mean_absolute_error: 2303.9089\n",
            "Epoch 55/100\n",
            "359295/359295 [==============================] - 6s 18us/step - loss: 2298.3976 - mean_absolute_error: 2298.3976\n",
            "Epoch 56/100\n",
            "359295/359295 [==============================] - 6s 18us/step - loss: 2307.2165 - mean_absolute_error: 2307.2165\n",
            "Epoch 57/100\n",
            "359295/359295 [==============================] - 7s 18us/step - loss: 2296.1004 - mean_absolute_error: 2296.1004\n",
            "Epoch 58/100\n",
            "359295/359295 [==============================] - 7s 19us/step - loss: 2281.9966 - mean_absolute_error: 2281.9966\n",
            "Epoch 59/100\n",
            "359295/359295 [==============================] - 7s 20us/step - loss: 2284.3679 - mean_absolute_error: 2284.3679\n",
            "Epoch 60/100\n",
            "359295/359295 [==============================] - 7s 19us/step - loss: 2294.4285 - mean_absolute_error: 2294.4285\n",
            "Epoch 61/100\n",
            "359295/359295 [==============================] - 7s 19us/step - loss: 2289.9925 - mean_absolute_error: 2289.9925\n",
            "Epoch 62/100\n",
            "359295/359295 [==============================] - 7s 19us/step - loss: 2285.1850 - mean_absolute_error: 2285.1850\n",
            "Epoch 63/100\n",
            "359295/359295 [==============================] - 7s 20us/step - loss: 2294.4592 - mean_absolute_error: 2294.4592\n",
            "Epoch 64/100\n",
            "359295/359295 [==============================] - 7s 19us/step - loss: 2293.6810 - mean_absolute_error: 2293.6810\n",
            "Epoch 65/100\n",
            "359295/359295 [==============================] - 7s 18us/step - loss: 2275.4549 - mean_absolute_error: 2275.4549\n",
            "Epoch 66/100\n",
            "359295/359295 [==============================] - 7s 18us/step - loss: 2285.0144 - mean_absolute_error: 2285.0144\n",
            "Epoch 67/100\n",
            "359295/359295 [==============================] - 6s 18us/step - loss: 2282.2776 - mean_absolute_error: 2282.2776\n",
            "Epoch 68/100\n",
            "359295/359295 [==============================] - 6s 18us/step - loss: 2272.0651 - mean_absolute_error: 2272.0651\n",
            "Epoch 69/100\n",
            "359295/359295 [==============================] - 6s 17us/step - loss: 2277.8896 - mean_absolute_error: 2277.8896\n",
            "Epoch 70/100\n",
            "359295/359295 [==============================] - 6s 17us/step - loss: 2273.3048 - mean_absolute_error: 2273.3048\n",
            "Epoch 71/100\n",
            "359295/359295 [==============================] - 6s 17us/step - loss: 2267.8332 - mean_absolute_error: 2267.8332\n",
            "Epoch 72/100\n",
            "359295/359295 [==============================] - 6s 17us/step - loss: 2264.3351 - mean_absolute_error: 2264.3351\n",
            "Epoch 73/100\n",
            "359295/359295 [==============================] - 6s 17us/step - loss: 2279.1565 - mean_absolute_error: 2279.1565\n",
            "Epoch 74/100\n",
            "359295/359295 [==============================] - 6s 17us/step - loss: 2258.5757 - mean_absolute_error: 2258.5757\n",
            "Epoch 75/100\n",
            "359295/359295 [==============================] - 6s 17us/step - loss: 2274.1194 - mean_absolute_error: 2274.1194\n",
            "Epoch 76/100\n",
            "359295/359295 [==============================] - 6s 18us/step - loss: 2261.9448 - mean_absolute_error: 2261.9448\n",
            "Epoch 77/100\n",
            "359295/359295 [==============================] - 6s 18us/step - loss: 2266.7439 - mean_absolute_error: 2266.7439\n",
            "Epoch 78/100\n",
            "359295/359295 [==============================] - 6s 18us/step - loss: 2259.8662 - mean_absolute_error: 2259.8662\n",
            "Epoch 79/100\n",
            "359295/359295 [==============================] - 6s 18us/step - loss: 2256.7945 - mean_absolute_error: 2256.7945\n",
            "Epoch 80/100\n",
            "359295/359295 [==============================] - 6s 18us/step - loss: 2258.3022 - mean_absolute_error: 2258.3022\n",
            "Epoch 81/100\n",
            "359295/359295 [==============================] - 6s 18us/step - loss: 2252.5901 - mean_absolute_error: 2252.5901\n",
            "Epoch 82/100\n",
            "359295/359295 [==============================] - 6s 18us/step - loss: 2259.6203 - mean_absolute_error: 2259.6203\n",
            "Epoch 83/100\n",
            "359295/359295 [==============================] - 6s 18us/step - loss: 2252.3899 - mean_absolute_error: 2252.3899\n",
            "Epoch 84/100\n",
            "359295/359295 [==============================] - 7s 19us/step - loss: 2249.5000 - mean_absolute_error: 2249.5000\n",
            "Epoch 85/100\n",
            "359295/359295 [==============================] - 7s 20us/step - loss: 2250.1621 - mean_absolute_error: 2250.1621\n",
            "Epoch 86/100\n",
            "359295/359295 [==============================] - 8s 21us/step - loss: 2253.7173 - mean_absolute_error: 2253.7173\n",
            "Epoch 87/100\n",
            "359295/359295 [==============================] - 7s 20us/step - loss: 2247.3545 - mean_absolute_error: 2247.3545\n",
            "Epoch 88/100\n",
            "359295/359295 [==============================] - 7s 19us/step - loss: 2253.9775 - mean_absolute_error: 2253.9775\n",
            "Epoch 89/100\n",
            "359295/359295 [==============================] - 6s 18us/step - loss: 2245.7089 - mean_absolute_error: 2245.7089\n",
            "Epoch 90/100\n",
            "359295/359295 [==============================] - 6s 18us/step - loss: 2243.0300 - mean_absolute_error: 2243.0300\n",
            "Epoch 91/100\n",
            "359295/359295 [==============================] - 6s 18us/step - loss: 2252.1265 - mean_absolute_error: 2252.1265\n",
            "Epoch 92/100\n",
            "359295/359295 [==============================] - 6s 17us/step - loss: 2236.9645 - mean_absolute_error: 2236.9645\n",
            "Epoch 93/100\n",
            "359295/359295 [==============================] - 6s 18us/step - loss: 2240.5171 - mean_absolute_error: 2240.5171\n",
            "Epoch 94/100\n",
            "359295/359295 [==============================] - 6s 17us/step - loss: 2239.9082 - mean_absolute_error: 2239.9082\n",
            "Epoch 95/100\n",
            "359295/359295 [==============================] - 6s 18us/step - loss: 2236.5600 - mean_absolute_error: 2236.5600\n",
            "Epoch 96/100\n",
            "359295/359295 [==============================] - 6s 18us/step - loss: 2254.6355 - mean_absolute_error: 2254.6355\n",
            "Epoch 97/100\n",
            "359295/359295 [==============================] - 6s 17us/step - loss: 2239.4847 - mean_absolute_error: 2239.4847\n",
            "Epoch 98/100\n",
            "359295/359295 [==============================] - 6s 18us/step - loss: 2234.2150 - mean_absolute_error: 2234.2150\n",
            "Epoch 99/100\n",
            "359295/359295 [==============================] - 6s 18us/step - loss: 2244.3422 - mean_absolute_error: 2244.3422\n",
            "Epoch 100/100\n",
            "359295/359295 [==============================] - 7s 18us/step - loss: 2232.3200 - mean_absolute_error: 2232.3200\n"
          ],
          "name": "stdout"
        },
        {
          "output_type": "execute_result",
          "data": {
            "text/plain": [
              "<keras.callbacks.History at 0x7f413d981240>"
            ]
          },
          "metadata": {
            "tags": []
          },
          "execution_count": 72
        }
      ]
    },
    {
      "cell_type": "code",
      "metadata": {
        "id": "zvuhdLyZ5b7P",
        "colab_type": "code",
        "colab": {}
      },
      "source": [
        "# o erro ainda está muito grande. +- 2232.3200 euros de variação."
      ],
      "execution_count": 0,
      "outputs": []
    },
    {
      "cell_type": "code",
      "metadata": {
        "id": "E9Y05iP79hL4",
        "colab_type": "code",
        "colab": {}
      },
      "source": [
        ""
      ],
      "execution_count": 0,
      "outputs": []
    }
  ]
}