{
  "nbformat": 4,
  "nbformat_minor": 0,
  "metadata": {
    "colab": {
      "name": "breast_cancer.ipynb",
      "provenance": []
    },
    "kernelspec": {
      "name": "python3",
      "display_name": "Python 3"
    }
  },
  "cells": [
    {
      "cell_type": "code",
      "metadata": {
        "id": "V-mlFSR7jvRJ",
        "colab_type": "code",
        "outputId": "a5434348-e7f5-42bb-aaaf-f95103f555f2",
        "colab": {
          "base_uri": "https://localhost:8080/",
          "height": 99
        }
      },
      "source": [
        "from google.colab import files\n",
        "import io\n",
        "import pandas as pd\n",
        "from sklearn.model_selection import train_test_split\n",
        "import keras\n",
        "from keras.models import Sequential\n",
        "from keras.layers import Dense"
      ],
      "execution_count": 0,
      "outputs": [
        {
          "output_type": "stream",
          "text": [
            "Using TensorFlow backend.\n"
          ],
          "name": "stderr"
        },
        {
          "output_type": "display_data",
          "data": {
            "text/html": [
              "<p style=\"color: red;\">\n",
              "The default version of TensorFlow in Colab will soon switch to TensorFlow 2.x.<br>\n",
              "We recommend you <a href=\"https://www.tensorflow.org/guide/migrate\" target=\"_blank\">upgrade</a> now \n",
              "or ensure your notebook will continue to use TensorFlow 1.x via the <code>%tensorflow_version 1.x</code> magic:\n",
              "<a href=\"https://colab.research.google.com/notebooks/tensorflow_version.ipynb\" target=\"_blank\">more info</a>.</p>\n"
            ],
            "text/plain": [
              "<IPython.core.display.HTML object>"
            ]
          },
          "metadata": {
            "tags": []
          }
        }
      ]
    },
    {
      "cell_type": "code",
      "metadata": {
        "id": "P5Lp2_dIiEo0",
        "colab_type": "code",
        "outputId": "67bddb16-d07e-48eb-e438-0fb2e7650881",
        "colab": {
          "resources": {
            "http://localhost:8080/nbextensions/google.colab/files.js": {
              "data": "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",
              "ok": true,
              "headers": [
                [
                  "content-type",
                  "application/javascript"
                ]
              ],
              "status": 200,
              "status_text": ""
            }
          },
          "base_uri": "https://localhost:8080/",
          "height": 109
        }
      },
      "source": [
        "uploaded = files.upload()"
      ],
      "execution_count": 0,
      "outputs": [
        {
          "output_type": "display_data",
          "data": {
            "text/html": [
              "\n",
              "     <input type=\"file\" id=\"files-7de3a16a-d5c1-4b2b-921a-0e87f43b3c05\" name=\"files[]\" multiple disabled />\n",
              "     <output id=\"result-7de3a16a-d5c1-4b2b-921a-0e87f43b3c05\">\n",
              "      Upload widget is only available when the cell has been executed in the\n",
              "      current browser session. Please rerun this cell to enable.\n",
              "      </output>\n",
              "      <script src=\"/nbextensions/google.colab/files.js\"></script> "
            ],
            "text/plain": [
              "<IPython.core.display.HTML object>"
            ]
          },
          "metadata": {
            "tags": []
          }
        },
        {
          "output_type": "stream",
          "text": [
            "Saving entradas-breast.csv to entradas-breast.csv\n",
            "Saving saidas-breast.csv to saidas-breast.csv\n"
          ],
          "name": "stdout"
        }
      ]
    },
    {
      "cell_type": "code",
      "metadata": {
        "id": "zMIfmnoZiTZ3",
        "colab_type": "code",
        "colab": {}
      },
      "source": [
        "previsores = pd.read_csv(io.BytesIO(uploaded['entradas-breast.csv']))\n",
        "classe = pd.read_csv(io.BytesIO(uploaded['saidas-breast.csv']))\n",
        "\n",
        "previsores_treinamento, previsores_teste, classe_treinamento, classe_teste = train_test_split(previsores, classe, test_size=0.25)\n"
      ],
      "execution_count": 0,
      "outputs": []
    },
    {
      "cell_type": "code",
      "metadata": {
        "id": "lVsmbIrNjLMs",
        "colab_type": "code",
        "outputId": "7fecc6fb-ae40-48e3-d3cd-818856b163f7",
        "colab": {
          "base_uri": "https://localhost:8080/",
          "height": 1000
        }
      },
      "source": [
        "classificador = Sequential()\n",
        "classificador.add(Dense(units=16, activation='relu', kernel_initializer='random_uniform', input_dim = 30))\n",
        "classificador.add(Dense(units=1, activation='sigmoid'))\n",
        "\n",
        "classificador.compile(optimizer='adam', loss='binary_crossentropy',metrics=['binary_accuracy'])\n",
        "classificador.fit(previsores_treinamento, classe_treinamento,batch_size=10,epochs=100)\n"
      ],
      "execution_count": 0,
      "outputs": [
        {
          "output_type": "stream",
          "text": [
            "Epoch 1/100\n",
            "426/426 [==============================] - 0s 567us/step - loss: 2.0997 - binary_accuracy: 0.6526\n",
            "Epoch 2/100\n",
            "426/426 [==============================] - 0s 106us/step - loss: 1.6215 - binary_accuracy: 0.7113\n",
            "Epoch 3/100\n",
            "426/426 [==============================] - 0s 112us/step - loss: 1.1891 - binary_accuracy: 0.7793\n",
            "Epoch 4/100\n",
            "426/426 [==============================] - 0s 116us/step - loss: 0.9896 - binary_accuracy: 0.7840\n",
            "Epoch 5/100\n",
            "426/426 [==============================] - 0s 120us/step - loss: 0.3507 - binary_accuracy: 0.8638\n",
            "Epoch 6/100\n",
            "426/426 [==============================] - 0s 124us/step - loss: 0.2681 - binary_accuracy: 0.8850\n",
            "Epoch 7/100\n",
            "426/426 [==============================] - 0s 119us/step - loss: 0.3008 - binary_accuracy: 0.8873\n",
            "Epoch 8/100\n",
            "426/426 [==============================] - 0s 119us/step - loss: 0.2006 - binary_accuracy: 0.9272\n",
            "Epoch 9/100\n",
            "426/426 [==============================] - 0s 112us/step - loss: 0.3013 - binary_accuracy: 0.8756\n",
            "Epoch 10/100\n",
            "426/426 [==============================] - 0s 121us/step - loss: 0.2479 - binary_accuracy: 0.8897\n",
            "Epoch 11/100\n",
            "426/426 [==============================] - 0s 111us/step - loss: 0.2601 - binary_accuracy: 0.8920\n",
            "Epoch 12/100\n",
            "426/426 [==============================] - 0s 123us/step - loss: 0.3600 - binary_accuracy: 0.8803\n",
            "Epoch 13/100\n",
            "426/426 [==============================] - 0s 118us/step - loss: 0.2251 - binary_accuracy: 0.9202\n",
            "Epoch 14/100\n",
            "426/426 [==============================] - 0s 110us/step - loss: 0.1835 - binary_accuracy: 0.9343\n",
            "Epoch 15/100\n",
            "426/426 [==============================] - 0s 110us/step - loss: 0.2073 - binary_accuracy: 0.9108\n",
            "Epoch 16/100\n",
            "426/426 [==============================] - 0s 111us/step - loss: 0.1853 - binary_accuracy: 0.9296\n",
            "Epoch 17/100\n",
            "426/426 [==============================] - 0s 122us/step - loss: 0.2089 - binary_accuracy: 0.9202\n",
            "Epoch 18/100\n",
            "426/426 [==============================] - 0s 114us/step - loss: 0.1815 - binary_accuracy: 0.9225\n",
            "Epoch 19/100\n",
            "426/426 [==============================] - 0s 117us/step - loss: 0.2641 - binary_accuracy: 0.9061\n",
            "Epoch 20/100\n",
            "426/426 [==============================] - 0s 119us/step - loss: 0.2002 - binary_accuracy: 0.9272\n",
            "Epoch 21/100\n",
            "426/426 [==============================] - 0s 128us/step - loss: 0.1810 - binary_accuracy: 0.9343\n",
            "Epoch 22/100\n",
            "426/426 [==============================] - 0s 139us/step - loss: 0.1522 - binary_accuracy: 0.9390\n",
            "Epoch 23/100\n",
            "426/426 [==============================] - 0s 117us/step - loss: 0.1667 - binary_accuracy: 0.9413\n",
            "Epoch 24/100\n",
            "426/426 [==============================] - 0s 130us/step - loss: 0.1494 - binary_accuracy: 0.9366\n",
            "Epoch 25/100\n",
            "426/426 [==============================] - 0s 119us/step - loss: 0.2730 - binary_accuracy: 0.8991\n",
            "Epoch 26/100\n",
            "426/426 [==============================] - 0s 112us/step - loss: 0.1952 - binary_accuracy: 0.9178\n",
            "Epoch 27/100\n",
            "426/426 [==============================] - 0s 116us/step - loss: 0.3963 - binary_accuracy: 0.8732\n",
            "Epoch 28/100\n",
            "426/426 [==============================] - 0s 116us/step - loss: 0.1628 - binary_accuracy: 0.9413\n",
            "Epoch 29/100\n",
            "426/426 [==============================] - 0s 114us/step - loss: 0.1756 - binary_accuracy: 0.9366\n",
            "Epoch 30/100\n",
            "426/426 [==============================] - 0s 121us/step - loss: 0.1383 - binary_accuracy: 0.9460\n",
            "Epoch 31/100\n",
            "426/426 [==============================] - 0s 113us/step - loss: 0.1600 - binary_accuracy: 0.9366\n",
            "Epoch 32/100\n",
            "426/426 [==============================] - 0s 134us/step - loss: 0.1548 - binary_accuracy: 0.9343\n",
            "Epoch 33/100\n",
            "426/426 [==============================] - 0s 112us/step - loss: 0.2443 - binary_accuracy: 0.9249\n",
            "Epoch 34/100\n",
            "426/426 [==============================] - 0s 121us/step - loss: 0.1797 - binary_accuracy: 0.9366\n",
            "Epoch 35/100\n",
            "426/426 [==============================] - 0s 120us/step - loss: 0.2216 - binary_accuracy: 0.9131\n",
            "Epoch 36/100\n",
            "426/426 [==============================] - 0s 112us/step - loss: 0.1758 - binary_accuracy: 0.9343\n",
            "Epoch 37/100\n",
            "426/426 [==============================] - 0s 110us/step - loss: 0.2139 - binary_accuracy: 0.9202\n",
            "Epoch 38/100\n",
            "426/426 [==============================] - 0s 143us/step - loss: 0.1963 - binary_accuracy: 0.9225\n",
            "Epoch 39/100\n",
            "426/426 [==============================] - 0s 124us/step - loss: 0.1350 - binary_accuracy: 0.9460\n",
            "Epoch 40/100\n",
            "426/426 [==============================] - 0s 123us/step - loss: 0.1698 - binary_accuracy: 0.9296\n",
            "Epoch 41/100\n",
            "426/426 [==============================] - 0s 121us/step - loss: 0.1382 - binary_accuracy: 0.9554\n",
            "Epoch 42/100\n",
            "426/426 [==============================] - 0s 120us/step - loss: 0.1236 - binary_accuracy: 0.9460\n",
            "Epoch 43/100\n",
            "426/426 [==============================] - 0s 119us/step - loss: 0.1730 - binary_accuracy: 0.9225\n",
            "Epoch 44/100\n",
            "426/426 [==============================] - 0s 121us/step - loss: 0.2390 - binary_accuracy: 0.9202\n",
            "Epoch 45/100\n",
            "426/426 [==============================] - 0s 112us/step - loss: 0.1633 - binary_accuracy: 0.9437\n",
            "Epoch 46/100\n",
            "426/426 [==============================] - 0s 112us/step - loss: 0.1156 - binary_accuracy: 0.9554\n",
            "Epoch 47/100\n",
            "426/426 [==============================] - 0s 109us/step - loss: 0.1473 - binary_accuracy: 0.9460\n",
            "Epoch 48/100\n",
            "426/426 [==============================] - 0s 112us/step - loss: 0.2087 - binary_accuracy: 0.9202\n",
            "Epoch 49/100\n",
            "426/426 [==============================] - 0s 139us/step - loss: 0.2785 - binary_accuracy: 0.8991\n",
            "Epoch 50/100\n",
            "426/426 [==============================] - 0s 115us/step - loss: 0.3305 - binary_accuracy: 0.8991\n",
            "Epoch 51/100\n",
            "426/426 [==============================] - 0s 111us/step - loss: 0.1583 - binary_accuracy: 0.9390\n",
            "Epoch 52/100\n",
            "426/426 [==============================] - 0s 111us/step - loss: 0.1273 - binary_accuracy: 0.9507\n",
            "Epoch 53/100\n",
            "426/426 [==============================] - 0s 112us/step - loss: 0.1054 - binary_accuracy: 0.9507\n",
            "Epoch 54/100\n",
            "426/426 [==============================] - 0s 127us/step - loss: 0.1289 - binary_accuracy: 0.9437\n",
            "Epoch 55/100\n",
            "426/426 [==============================] - 0s 144us/step - loss: 0.1536 - binary_accuracy: 0.9366\n",
            "Epoch 56/100\n",
            "426/426 [==============================] - 0s 114us/step - loss: 0.1602 - binary_accuracy: 0.9343\n",
            "Epoch 57/100\n",
            "426/426 [==============================] - 0s 116us/step - loss: 0.1353 - binary_accuracy: 0.9343\n",
            "Epoch 58/100\n",
            "426/426 [==============================] - 0s 117us/step - loss: 0.1116 - binary_accuracy: 0.9460\n",
            "Epoch 59/100\n",
            "426/426 [==============================] - 0s 113us/step - loss: 0.1236 - binary_accuracy: 0.9484\n",
            "Epoch 60/100\n",
            "426/426 [==============================] - 0s 128us/step - loss: 0.1269 - binary_accuracy: 0.9460\n",
            "Epoch 61/100\n",
            "426/426 [==============================] - 0s 148us/step - loss: 0.1961 - binary_accuracy: 0.9366\n",
            "Epoch 62/100\n",
            "426/426 [==============================] - 0s 128us/step - loss: 0.1088 - binary_accuracy: 0.9554\n",
            "Epoch 63/100\n",
            "426/426 [==============================] - 0s 125us/step - loss: 0.1486 - binary_accuracy: 0.9460\n",
            "Epoch 64/100\n",
            "426/426 [==============================] - 0s 114us/step - loss: 0.2455 - binary_accuracy: 0.9272\n",
            "Epoch 65/100\n",
            "426/426 [==============================] - 0s 118us/step - loss: 0.2137 - binary_accuracy: 0.9249\n",
            "Epoch 66/100\n",
            "426/426 [==============================] - 0s 125us/step - loss: 0.2773 - binary_accuracy: 0.9131\n",
            "Epoch 67/100\n",
            "426/426 [==============================] - 0s 147us/step - loss: 0.2452 - binary_accuracy: 0.9272\n",
            "Epoch 68/100\n",
            "426/426 [==============================] - 0s 139us/step - loss: 0.3092 - binary_accuracy: 0.9178\n",
            "Epoch 69/100\n",
            "426/426 [==============================] - 0s 116us/step - loss: 0.2617 - binary_accuracy: 0.9178\n",
            "Epoch 70/100\n",
            "426/426 [==============================] - 0s 110us/step - loss: 0.2736 - binary_accuracy: 0.9085\n",
            "Epoch 71/100\n",
            "426/426 [==============================] - 0s 145us/step - loss: 0.1699 - binary_accuracy: 0.9413\n",
            "Epoch 72/100\n",
            "426/426 [==============================] - 0s 136us/step - loss: 0.1340 - binary_accuracy: 0.9577\n",
            "Epoch 73/100\n",
            "426/426 [==============================] - 0s 113us/step - loss: 0.0923 - binary_accuracy: 0.9671\n",
            "Epoch 74/100\n",
            "426/426 [==============================] - 0s 122us/step - loss: 0.1013 - binary_accuracy: 0.9601\n",
            "Epoch 75/100\n",
            "426/426 [==============================] - 0s 117us/step - loss: 0.2360 - binary_accuracy: 0.9272\n",
            "Epoch 76/100\n",
            "426/426 [==============================] - 0s 136us/step - loss: 0.1480 - binary_accuracy: 0.9460\n",
            "Epoch 77/100\n",
            "426/426 [==============================] - 0s 118us/step - loss: 0.1363 - binary_accuracy: 0.9507\n",
            "Epoch 78/100\n",
            "426/426 [==============================] - 0s 125us/step - loss: 0.1620 - binary_accuracy: 0.9484\n",
            "Epoch 79/100\n",
            "426/426 [==============================] - 0s 114us/step - loss: 0.1357 - binary_accuracy: 0.9601\n",
            "Epoch 80/100\n",
            "426/426 [==============================] - 0s 121us/step - loss: 0.1711 - binary_accuracy: 0.9460\n",
            "Epoch 81/100\n",
            "426/426 [==============================] - 0s 143us/step - loss: 0.1019 - binary_accuracy: 0.9601\n",
            "Epoch 82/100\n",
            "426/426 [==============================] - 0s 141us/step - loss: 0.2462 - binary_accuracy: 0.9178\n",
            "Epoch 83/100\n",
            "426/426 [==============================] - 0s 117us/step - loss: 0.1176 - binary_accuracy: 0.9624\n",
            "Epoch 84/100\n",
            "426/426 [==============================] - 0s 120us/step - loss: 0.0943 - binary_accuracy: 0.9624\n",
            "Epoch 85/100\n",
            "426/426 [==============================] - 0s 124us/step - loss: 0.1700 - binary_accuracy: 0.9390\n",
            "Epoch 86/100\n",
            "426/426 [==============================] - 0s 142us/step - loss: 0.1902 - binary_accuracy: 0.9390\n",
            "Epoch 87/100\n",
            "426/426 [==============================] - 0s 110us/step - loss: 0.1062 - binary_accuracy: 0.9648\n",
            "Epoch 88/100\n",
            "426/426 [==============================] - 0s 121us/step - loss: 0.1077 - binary_accuracy: 0.9648\n",
            "Epoch 89/100\n",
            "426/426 [==============================] - 0s 118us/step - loss: 0.0961 - binary_accuracy: 0.9577\n",
            "Epoch 90/100\n",
            "426/426 [==============================] - 0s 122us/step - loss: 0.1977 - binary_accuracy: 0.9366\n",
            "Epoch 91/100\n",
            "426/426 [==============================] - 0s 120us/step - loss: 0.1556 - binary_accuracy: 0.9437\n",
            "Epoch 92/100\n",
            "426/426 [==============================] - 0s 120us/step - loss: 0.1538 - binary_accuracy: 0.9390\n",
            "Epoch 93/100\n",
            "426/426 [==============================] - 0s 114us/step - loss: 0.1106 - binary_accuracy: 0.9531\n",
            "Epoch 94/100\n",
            "426/426 [==============================] - 0s 121us/step - loss: 0.0962 - binary_accuracy: 0.9671\n",
            "Epoch 95/100\n",
            "426/426 [==============================] - 0s 163us/step - loss: 0.2263 - binary_accuracy: 0.9366\n",
            "Epoch 96/100\n",
            "426/426 [==============================] - 0s 119us/step - loss: 0.1240 - binary_accuracy: 0.9554\n",
            "Epoch 97/100\n",
            "426/426 [==============================] - 0s 114us/step - loss: 0.1172 - binary_accuracy: 0.9648\n",
            "Epoch 98/100\n",
            "426/426 [==============================] - 0s 119us/step - loss: 0.0958 - binary_accuracy: 0.9601\n",
            "Epoch 99/100\n",
            "426/426 [==============================] - 0s 158us/step - loss: 0.1099 - binary_accuracy: 0.9531\n",
            "Epoch 100/100\n",
            "426/426 [==============================] - 0s 142us/step - loss: 0.1106 - binary_accuracy: 0.9484\n"
          ],
          "name": "stdout"
        },
        {
          "output_type": "execute_result",
          "data": {
            "text/plain": [
              "<keras.callbacks.History at 0x7fb086cc08d0>"
            ]
          },
          "metadata": {
            "tags": []
          },
          "execution_count": 9
        }
      ]
    },
    {
      "cell_type": "code",
      "metadata": {
        "id": "q6r55jmlkCJj",
        "colab_type": "code",
        "colab": {}
      },
      "source": [
        "from sklearn.metrics import confusion_matrix, accuracy_score\n",
        "\n",
        "previsoes = classificador.predict(previsores_teste)\n",
        "previsoes = (previsoes > 0.5)\n",
        "\n",
        "precisao = accuracy_score(classe_teste,previsoes)"
      ],
      "execution_count": 0,
      "outputs": []
    },
    {
      "cell_type": "code",
      "metadata": {
        "id": "S8gbWwE7k8sE",
        "colab_type": "code",
        "outputId": "adeb9517-41bb-4ea8-d02c-b817281aef67",
        "colab": {
          "base_uri": "https://localhost:8080/",
          "height": 35
        }
      },
      "source": [
        "print(precisao) # Aqui mostra a precisão na tabela de testes"
      ],
      "execution_count": 0,
      "outputs": [
        {
          "output_type": "stream",
          "text": [
            "0.8251748251748252\n"
          ],
          "name": "stdout"
        }
      ]
    },
    {
      "cell_type": "code",
      "metadata": {
        "id": "KHdX_5FMlrG0",
        "colab_type": "code",
        "colab": {}
      },
      "source": [
        "matriz = confusion_matrix(classe_teste,previsoes)"
      ],
      "execution_count": 0,
      "outputs": []
    },
    {
      "cell_type": "code",
      "metadata": {
        "id": "kbzokmNgmSdL",
        "colab_type": "code",
        "outputId": "dfec0676-6584-4995-ddbb-f72be93c8c6a",
        "colab": {
          "base_uri": "https://localhost:8080/",
          "height": 52
        }
      },
      "source": [
        "print(matriz) # Matriz de confusão, quanto maior os índices da diagonal principal, melhor o resultado"
      ],
      "execution_count": 0,
      "outputs": [
        {
          "output_type": "stream",
          "text": [
            "[[39  9]\n",
            " [16 79]]\n"
          ],
          "name": "stdout"
        }
      ]
    },
    {
      "cell_type": "code",
      "metadata": {
        "id": "mY3ie9K9mVbQ",
        "colab_type": "code",
        "outputId": "c2a8adfa-346d-44de-e72f-21ae5c2dbff2",
        "colab": {
          "base_uri": "https://localhost:8080/",
          "height": 52
        }
      },
      "source": [
        "resultado = classificador.evaluate(previsores_teste,classe_teste)\n",
        "print(resultado) # erro e precisao usando o keras"
      ],
      "execution_count": 0,
      "outputs": [
        {
          "output_type": "stream",
          "text": [
            "143/143 [==============================] - 0s 364us/step\n",
            "[0.8840514871623967, 0.8251748255916409]\n"
          ],
          "name": "stdout"
        }
      ]
    },
    {
      "cell_type": "code",
      "metadata": {
        "id": "MhITeQDdnCyM",
        "colab_type": "code",
        "colab": {}
      },
      "source": [
        ""
      ],
      "execution_count": 0,
      "outputs": []
    }
  ]
}